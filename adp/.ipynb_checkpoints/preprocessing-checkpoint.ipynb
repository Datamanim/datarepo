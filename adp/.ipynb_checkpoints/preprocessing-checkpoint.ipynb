{
 "cells": [
  {
   "cell_type": "code",
   "execution_count": 1,
   "id": "589e01bd",
   "metadata": {
    "ExecuteTime": {
     "end_time": "2022-01-07T14:34:25.665834Z",
     "start_time": "2022-01-07T14:34:25.228545Z"
    }
   },
   "outputs": [],
   "source": [
    "import pandas as pd\n",
    "import os"
   ]
  },
  {
   "cell_type": "code",
   "execution_count": 2,
   "id": "8d8e6315",
   "metadata": {
    "ExecuteTime": {
     "end_time": "2022-01-07T14:34:31.460741Z",
     "start_time": "2022-01-07T14:34:31.458156Z"
    }
   },
   "outputs": [],
   "source": [
    "os.chdir('./p2')"
   ]
  },
  {
   "cell_type": "code",
   "execution_count": 3,
   "id": "b5a2b95e",
   "metadata": {
    "ExecuteTime": {
     "end_time": "2022-01-07T14:34:34.111601Z",
     "start_time": "2022-01-07T14:34:34.102317Z"
    }
   },
   "outputs": [
    {
     "data": {
      "text/plain": [
       "['temps.csv']"
      ]
     },
     "execution_count": 3,
     "metadata": {},
     "output_type": "execute_result"
    }
   ],
   "source": [
    "os.listdir()"
   ]
  },
  {
   "cell_type": "code",
   "execution_count": 4,
   "id": "e2dca43f",
   "metadata": {
    "ExecuteTime": {
     "end_time": "2022-01-07T14:34:39.021347Z",
     "start_time": "2022-01-07T14:34:39.011425Z"
    }
   },
   "outputs": [],
   "source": [
    "df =pd.read_csv('temps.csv')"
   ]
  },
  {
   "cell_type": "code",
   "execution_count": 5,
   "id": "3713be0d",
   "metadata": {
    "ExecuteTime": {
     "end_time": "2022-01-07T14:34:40.956499Z",
     "start_time": "2022-01-07T14:34:40.910138Z"
    }
   },
   "outputs": [
    {
     "data": {
      "text/html": [
       "<div>\n",
       "<style scoped>\n",
       "    .dataframe tbody tr th:only-of-type {\n",
       "        vertical-align: middle;\n",
       "    }\n",
       "\n",
       "    .dataframe tbody tr th {\n",
       "        vertical-align: top;\n",
       "    }\n",
       "\n",
       "    .dataframe thead th {\n",
       "        text-align: right;\n",
       "    }\n",
       "</style>\n",
       "<table border=\"1\" class=\"dataframe\">\n",
       "  <thead>\n",
       "    <tr style=\"text-align: right;\">\n",
       "      <th></th>\n",
       "      <th>year</th>\n",
       "      <th>month</th>\n",
       "      <th>day</th>\n",
       "      <th>week</th>\n",
       "      <th>temp_2</th>\n",
       "      <th>temp_1</th>\n",
       "      <th>average</th>\n",
       "      <th>actual</th>\n",
       "      <th>forecast_noaa</th>\n",
       "      <th>forecast_acc</th>\n",
       "      <th>forecast_under</th>\n",
       "      <th>friend</th>\n",
       "    </tr>\n",
       "  </thead>\n",
       "  <tbody>\n",
       "    <tr>\n",
       "      <th>0</th>\n",
       "      <td>2016</td>\n",
       "      <td>1</td>\n",
       "      <td>1</td>\n",
       "      <td>Fri</td>\n",
       "      <td>45</td>\n",
       "      <td>45</td>\n",
       "      <td>45.6</td>\n",
       "      <td>45</td>\n",
       "      <td>43</td>\n",
       "      <td>50</td>\n",
       "      <td>44</td>\n",
       "      <td>29</td>\n",
       "    </tr>\n",
       "    <tr>\n",
       "      <th>1</th>\n",
       "      <td>2016</td>\n",
       "      <td>1</td>\n",
       "      <td>2</td>\n",
       "      <td>Sat</td>\n",
       "      <td>44</td>\n",
       "      <td>45</td>\n",
       "      <td>45.7</td>\n",
       "      <td>44</td>\n",
       "      <td>41</td>\n",
       "      <td>50</td>\n",
       "      <td>44</td>\n",
       "      <td>61</td>\n",
       "    </tr>\n",
       "    <tr>\n",
       "      <th>2</th>\n",
       "      <td>2016</td>\n",
       "      <td>1</td>\n",
       "      <td>3</td>\n",
       "      <td>Sun</td>\n",
       "      <td>45</td>\n",
       "      <td>44</td>\n",
       "      <td>45.8</td>\n",
       "      <td>41</td>\n",
       "      <td>43</td>\n",
       "      <td>46</td>\n",
       "      <td>47</td>\n",
       "      <td>56</td>\n",
       "    </tr>\n",
       "    <tr>\n",
       "      <th>3</th>\n",
       "      <td>2016</td>\n",
       "      <td>1</td>\n",
       "      <td>4</td>\n",
       "      <td>Mon</td>\n",
       "      <td>44</td>\n",
       "      <td>41</td>\n",
       "      <td>45.9</td>\n",
       "      <td>40</td>\n",
       "      <td>44</td>\n",
       "      <td>48</td>\n",
       "      <td>46</td>\n",
       "      <td>53</td>\n",
       "    </tr>\n",
       "    <tr>\n",
       "      <th>4</th>\n",
       "      <td>2016</td>\n",
       "      <td>1</td>\n",
       "      <td>5</td>\n",
       "      <td>Tues</td>\n",
       "      <td>41</td>\n",
       "      <td>40</td>\n",
       "      <td>46.0</td>\n",
       "      <td>44</td>\n",
       "      <td>46</td>\n",
       "      <td>46</td>\n",
       "      <td>46</td>\n",
       "      <td>41</td>\n",
       "    </tr>\n",
       "    <tr>\n",
       "      <th>...</th>\n",
       "      <td>...</td>\n",
       "      <td>...</td>\n",
       "      <td>...</td>\n",
       "      <td>...</td>\n",
       "      <td>...</td>\n",
       "      <td>...</td>\n",
       "      <td>...</td>\n",
       "      <td>...</td>\n",
       "      <td>...</td>\n",
       "      <td>...</td>\n",
       "      <td>...</td>\n",
       "      <td>...</td>\n",
       "    </tr>\n",
       "    <tr>\n",
       "      <th>343</th>\n",
       "      <td>2016</td>\n",
       "      <td>12</td>\n",
       "      <td>27</td>\n",
       "      <td>Tues</td>\n",
       "      <td>42</td>\n",
       "      <td>42</td>\n",
       "      <td>45.2</td>\n",
       "      <td>47</td>\n",
       "      <td>41</td>\n",
       "      <td>50</td>\n",
       "      <td>47</td>\n",
       "      <td>47</td>\n",
       "    </tr>\n",
       "    <tr>\n",
       "      <th>344</th>\n",
       "      <td>2016</td>\n",
       "      <td>12</td>\n",
       "      <td>28</td>\n",
       "      <td>Wed</td>\n",
       "      <td>42</td>\n",
       "      <td>47</td>\n",
       "      <td>45.3</td>\n",
       "      <td>48</td>\n",
       "      <td>41</td>\n",
       "      <td>49</td>\n",
       "      <td>44</td>\n",
       "      <td>58</td>\n",
       "    </tr>\n",
       "    <tr>\n",
       "      <th>345</th>\n",
       "      <td>2016</td>\n",
       "      <td>12</td>\n",
       "      <td>29</td>\n",
       "      <td>Thurs</td>\n",
       "      <td>47</td>\n",
       "      <td>48</td>\n",
       "      <td>45.3</td>\n",
       "      <td>48</td>\n",
       "      <td>43</td>\n",
       "      <td>50</td>\n",
       "      <td>45</td>\n",
       "      <td>65</td>\n",
       "    </tr>\n",
       "    <tr>\n",
       "      <th>346</th>\n",
       "      <td>2016</td>\n",
       "      <td>12</td>\n",
       "      <td>30</td>\n",
       "      <td>Fri</td>\n",
       "      <td>48</td>\n",
       "      <td>48</td>\n",
       "      <td>45.4</td>\n",
       "      <td>57</td>\n",
       "      <td>44</td>\n",
       "      <td>46</td>\n",
       "      <td>44</td>\n",
       "      <td>42</td>\n",
       "    </tr>\n",
       "    <tr>\n",
       "      <th>347</th>\n",
       "      <td>2016</td>\n",
       "      <td>12</td>\n",
       "      <td>31</td>\n",
       "      <td>Sat</td>\n",
       "      <td>48</td>\n",
       "      <td>57</td>\n",
       "      <td>45.5</td>\n",
       "      <td>40</td>\n",
       "      <td>42</td>\n",
       "      <td>48</td>\n",
       "      <td>47</td>\n",
       "      <td>57</td>\n",
       "    </tr>\n",
       "  </tbody>\n",
       "</table>\n",
       "<p>348 rows × 12 columns</p>\n",
       "</div>"
      ],
      "text/plain": [
       "     year  month  day   week  temp_2  temp_1  average  actual  forecast_noaa  \\\n",
       "0    2016      1    1    Fri      45      45     45.6      45             43   \n",
       "1    2016      1    2    Sat      44      45     45.7      44             41   \n",
       "2    2016      1    3    Sun      45      44     45.8      41             43   \n",
       "3    2016      1    4    Mon      44      41     45.9      40             44   \n",
       "4    2016      1    5   Tues      41      40     46.0      44             46   \n",
       "..    ...    ...  ...    ...     ...     ...      ...     ...            ...   \n",
       "343  2016     12   27   Tues      42      42     45.2      47             41   \n",
       "344  2016     12   28    Wed      42      47     45.3      48             41   \n",
       "345  2016     12   29  Thurs      47      48     45.3      48             43   \n",
       "346  2016     12   30    Fri      48      48     45.4      57             44   \n",
       "347  2016     12   31    Sat      48      57     45.5      40             42   \n",
       "\n",
       "     forecast_acc  forecast_under  friend  \n",
       "0              50              44      29  \n",
       "1              50              44      61  \n",
       "2              46              47      56  \n",
       "3              48              46      53  \n",
       "4              46              46      41  \n",
       "..            ...             ...     ...  \n",
       "343            50              47      47  \n",
       "344            49              44      58  \n",
       "345            50              45      65  \n",
       "346            46              44      42  \n",
       "347            48              47      57  \n",
       "\n",
       "[348 rows x 12 columns]"
      ]
     },
     "execution_count": 5,
     "metadata": {},
     "output_type": "execute_result"
    }
   ],
   "source": [
    "df"
   ]
  },
  {
   "cell_type": "code",
   "execution_count": null,
   "id": "f816f89d",
   "metadata": {},
   "outputs": [],
   "source": []
  },
  {
   "cell_type": "code",
   "execution_count": null,
   "id": "d054e9d6",
   "metadata": {},
   "outputs": [],
   "source": []
  },
  {
   "cell_type": "code",
   "execution_count": null,
   "id": "91dde8b8",
   "metadata": {},
   "outputs": [],
   "source": []
  },
  {
   "cell_type": "code",
   "execution_count": null,
   "id": "03a45b22",
   "metadata": {},
   "outputs": [],
   "source": []
  },
  {
   "cell_type": "code",
   "execution_count": null,
   "id": "e1dce63b",
   "metadata": {},
   "outputs": [],
   "source": []
  },
  {
   "cell_type": "code",
   "execution_count": null,
   "id": "d23f807b",
   "metadata": {},
   "outputs": [],
   "source": []
  },
  {
   "cell_type": "code",
   "execution_count": null,
   "id": "ac02ad29",
   "metadata": {},
   "outputs": [],
   "source": []
  },
  {
   "cell_type": "code",
   "execution_count": null,
   "id": "05bedcc0",
   "metadata": {},
   "outputs": [],
   "source": []
  },
  {
   "cell_type": "code",
   "execution_count": null,
   "id": "db7055cd",
   "metadata": {},
   "outputs": [],
   "source": []
  },
  {
   "cell_type": "code",
   "execution_count": null,
   "id": "41264496",
   "metadata": {},
   "outputs": [],
   "source": []
  },
  {
   "cell_type": "code",
   "execution_count": null,
   "id": "2fe35997",
   "metadata": {},
   "outputs": [],
   "source": []
  },
  {
   "cell_type": "code",
   "execution_count": null,
   "id": "9c9c594f",
   "metadata": {},
   "outputs": [],
   "source": []
  },
  {
   "cell_type": "code",
   "execution_count": null,
   "id": "99d84036",
   "metadata": {},
   "outputs": [],
   "source": []
  },
  {
   "cell_type": "code",
   "execution_count": null,
   "id": "5d86bd55",
   "metadata": {},
   "outputs": [],
   "source": []
  },
  {
   "cell_type": "code",
   "execution_count": null,
   "id": "49b61013",
   "metadata": {},
   "outputs": [],
   "source": []
  },
  {
   "cell_type": "code",
   "execution_count": null,
   "id": "e965f71a",
   "metadata": {},
   "outputs": [],
   "source": []
  },
  {
   "cell_type": "code",
   "execution_count": null,
   "id": "797ae8f0",
   "metadata": {},
   "outputs": [],
   "source": []
  },
  {
   "cell_type": "code",
   "execution_count": null,
   "id": "a267630d",
   "metadata": {},
   "outputs": [],
   "source": []
  },
  {
   "cell_type": "code",
   "execution_count": 7,
   "id": "d5f2be37",
   "metadata": {
    "ExecuteTime": {
     "end_time": "2022-01-01T06:22:57.483914Z",
     "start_time": "2022-01-01T06:22:57.473992Z"
    }
   },
   "outputs": [
    {
     "data": {
      "text/plain": [
       "['preprocessing.ipynb', '.DS_Store', 'p1.csv', '.ipynb_checkpoints']"
      ]
     },
     "execution_count": 7,
     "metadata": {},
     "output_type": "execute_result"
    }
   ],
   "source": [
    "os.listdir()"
   ]
  },
  {
   "cell_type": "code",
   "execution_count": 8,
   "id": "35535d61",
   "metadata": {
    "ExecuteTime": {
     "end_time": "2022-01-01T06:23:04.959104Z",
     "start_time": "2022-01-01T06:23:04.932211Z"
    }
   },
   "outputs": [],
   "source": [
    "df = pd.read_csv('p1.csv')"
   ]
  },
  {
   "cell_type": "code",
   "execution_count": 23,
   "id": "f6aff1eb",
   "metadata": {
    "ExecuteTime": {
     "end_time": "2022-01-01T06:39:04.919301Z",
     "start_time": "2022-01-01T06:39:04.915157Z"
    }
   },
   "outputs": [],
   "source": [
    "df.loc[sorted(df.sample(50).index.to_list()),'Light'] = -99"
   ]
  },
  {
   "cell_type": "code",
   "execution_count": 24,
   "id": "a467fc52",
   "metadata": {
    "ExecuteTime": {
     "end_time": "2022-01-01T06:39:33.895663Z",
     "start_time": "2022-01-01T06:39:33.890581Z"
    }
   },
   "outputs": [],
   "source": [
    "import numpy as np\n",
    "df.loc[sorted(df.sample(21).index.to_list()),'CO2'] = np.nan"
   ]
  },
  {
   "cell_type": "code",
   "execution_count": 28,
   "id": "ab726e90",
   "metadata": {
    "ExecuteTime": {
     "end_time": "2022-01-01T06:40:42.949095Z",
     "start_time": "2022-01-01T06:40:42.854297Z"
    }
   },
   "outputs": [],
   "source": [
    "df.to_csv('problem1.csv',index=False)"
   ]
  },
  {
   "cell_type": "code",
   "execution_count": 29,
   "id": "3a2fd29d",
   "metadata": {
    "ExecuteTime": {
     "end_time": "2022-01-01T06:50:45.036512Z",
     "start_time": "2022-01-01T06:50:45.033593Z"
    }
   },
   "outputs": [],
   "source": [
    "sp = pd.DataFrame()"
   ]
  },
  {
   "cell_type": "code",
   "execution_count": 30,
   "id": "c16ae4d8",
   "metadata": {
    "ExecuteTime": {
     "end_time": "2022-01-01T06:52:22.623026Z",
     "start_time": "2022-01-01T06:52:22.618027Z"
    }
   },
   "outputs": [],
   "source": [
    "sp['name'] = ['sample'+str(x) for x in range(1,13)]\n",
    "sp['life span'] = [10000,9000,9500,10000,10000,8900,9900,10100,10300,10020,10000,9800]"
   ]
  },
  {
   "cell_type": "code",
   "execution_count": 32,
   "id": "0cce7151",
   "metadata": {
    "ExecuteTime": {
     "end_time": "2022-01-01T06:52:35.527982Z",
     "start_time": "2022-01-01T06:52:35.524405Z"
    }
   },
   "outputs": [],
   "source": [
    "sp.to_csv('problem2.csv',index=False)"
   ]
  },
  {
   "cell_type": "markdown",
   "id": "1806c804",
   "metadata": {},
   "source": [
    "# 3"
   ]
  },
  {
   "cell_type": "code",
   "execution_count": 33,
   "id": "b505532b",
   "metadata": {
    "ExecuteTime": {
     "end_time": "2022-01-01T07:33:12.561212Z",
     "start_time": "2022-01-01T07:33:11.700293Z"
    }
   },
   "outputs": [],
   "source": [
    "covid = pd.read_csv('country_panel.csv/country_panel.csv')"
   ]
  },
  {
   "cell_type": "code",
   "execution_count": 34,
   "id": "c6d0cdf1",
   "metadata": {
    "ExecuteTime": {
     "end_time": "2022-01-01T07:33:21.691862Z",
     "start_time": "2022-01-01T07:33:21.607686Z"
    }
   },
   "outputs": [],
   "source": [
    "c= covid.copy()"
   ]
  },
  {
   "cell_type": "code",
   "execution_count": 36,
   "id": "5f1daf79",
   "metadata": {
    "ExecuteTime": {
     "end_time": "2022-01-01T07:33:36.378831Z",
     "start_time": "2022-01-01T07:33:36.347401Z"
    }
   },
   "outputs": [],
   "source": [
    "c['date'] = pd.to_datetime(c['date'])"
   ]
  },
  {
   "cell_type": "code",
   "execution_count": 48,
   "id": "c687c506",
   "metadata": {
    "ExecuteTime": {
     "end_time": "2022-01-01T07:36:26.912074Z",
     "start_time": "2022-01-01T07:36:26.823142Z"
    }
   },
   "outputs": [],
   "source": [
    "d= c[(c['date']>=pd.to_datetime('2021-01-01')) & (c['date']<=pd.to_datetime('2021-11-01'))].reset_index(drop=True)"
   ]
  },
  {
   "cell_type": "code",
   "execution_count": 128,
   "id": "35117376",
   "metadata": {
    "ExecuteTime": {
     "end_time": "2022-01-01T07:42:47.112911Z",
     "start_time": "2022-01-01T07:42:44.863527Z"
    },
    "scrolled": true
   },
   "outputs": [
    {
     "name": "stdout",
     "output_type": "stream",
     "text": [
      "122\n"
     ]
    },
    {
     "data": {
      "image/png": "[encoded data removed]",
      "text/plain": [
       "<Figure size 432x288 with 1 Axes>"
      ]
     },
     "metadata": {
      "needs_background": "light"
     },
     "output_type": "display_data"
    }
   ],
   "source": [
    "n=0\n",
    "while True:\n",
    "    e = d[d.location.isin(pd.Series(d.location.unique()).sample(40).values)].reset_index(drop=True)\n",
    "    re  = e[['location','date','new_cases']].reset_index(drop=True)\n",
    "    if len(re[re.new_cases<0]) ==0:\n",
    "        sns.lineplot(data=re,x='date',y='new_cases',hue='location')\n",
    "        break\n",
    "    else:\n",
    "        n+=1\n",
    "print(n)"
   ]
  },
  {
   "cell_type": "code",
   "execution_count": 129,
   "id": "6c89e12b",
   "metadata": {
    "ExecuteTime": {
     "end_time": "2022-01-01T07:42:53.565206Z",
     "start_time": "2022-01-01T07:42:53.472718Z"
    }
   },
   "outputs": [],
   "source": [
    "re.to_csv('problem3_covid.csv',index=False)"
   ]
  },
  {
   "cell_type": "markdown",
   "id": "21aa7dcb",
   "metadata": {},
   "source": [
    "# 4"
   ]
  },
  {
   "cell_type": "markdown",
   "id": "33bc58b7",
   "metadata": {},
   "source": [
    "!bash ~/datagit.sh"
   ]
  },
  {
   "cell_type": "code",
   "execution_count": 133,
   "id": "1473eedc",
   "metadata": {
    "ExecuteTime": {
     "end_time": "2022-01-01T08:01:39.009136Z",
     "start_time": "2022-01-01T08:01:36.966335Z"
    }
   },
   "outputs": [
    {
     "name": "stdout",
     "output_type": "stream",
     "text": [
      "/Users/ds/Documents/project/이기적자료/datarepo/.git/ 안의 기존 깃 저장소를 다시 초기화했습니다\n",
      "[main 9780624] update\n",
      " 3 files changed, 455 insertions(+), 510 deletions(-)\n",
      " rewrite adp/p1/preprocessing.ipynb (90%)\n",
      " create mode 100644 adp/p1/problem4.png\n",
      "오브젝트 나열하는 중: 12, 완료.\n",
      "오브젝트 개수 세는 중: 100% (12/12), 완료.\n",
      "Delta compression using up to 16 threads\n",
      "오브젝트 압축하는 중: 100% (7/7), 완료.\n",
      "오브젝트 쓰는 중: 100% (7/7), 107.65 KiB | 17.94 MiB/s, 완료.\n",
      "Total 7 (delta 3), reused 0 (delta 0), pack-reused 0\n",
      "remote: Resolving deltas: 100% (3/3), completed with 3 local objects.\u001b[K\n",
      "To https://github.com/Datamanim/datarepo\n",
      "   11e8f3c..9780624  main -> main\n"
     ]
    }
   ],
   "source": [
    "!bash ~/datagit.sh"
   ]
  },
  {
   "cell_type": "code",
   "execution_count": 130,
   "id": "d2cea80e",
   "metadata": {
    "ExecuteTime": {
     "end_time": "2022-01-01T07:56:54.519380Z",
     "start_time": "2022-01-01T07:56:54.515907Z"
    }
   },
   "outputs": [],
   "source": [
    "s = pd.DataFrame()"
   ]
  },
  {
   "cell_type": "code",
   "execution_count": 131,
   "id": "60ba9835",
   "metadata": {
    "ExecuteTime": {
     "end_time": "2022-01-01T07:58:09.631282Z",
     "start_time": "2022-01-01T07:58:09.625182Z"
    }
   },
   "outputs": [],
   "source": [
    "s['score'] = ['1.5-2.5','2.5-3.5','3.5-4.5']\n",
    "s['사회과학'] = [15,60,24]\n",
    "s['자연과학'] = [25,69,5]\n",
    "s['공학'] = [10,77,13]"
   ]
  },
  {
   "cell_type": "code",
   "execution_count": 132,
   "id": "1d863c7f",
   "metadata": {
    "ExecuteTime": {
     "end_time": "2022-01-01T07:58:12.928471Z",
     "start_time": "2022-01-01T07:58:12.921245Z"
    }
   },
   "outputs": [
    {
     "data": {
      "text/html": [
       "<div>\n",
       "<style scoped>\n",
       "    .dataframe tbody tr th:only-of-type {\n",
       "        vertical-align: middle;\n",
       "    }\n",
       "\n",
       "    .dataframe tbody tr th {\n",
       "        vertical-align: top;\n",
       "    }\n",
       "\n",
       "    .dataframe thead th {\n",
       "        text-align: right;\n",
       "    }\n",
       "</style>\n",
       "<table border=\"1\" class=\"dataframe\">\n",
       "  <thead>\n",
       "    <tr style=\"text-align: right;\">\n",
       "      <th></th>\n",
       "      <th>사회과학</th>\n",
       "      <th>자연과학</th>\n",
       "      <th>공학</th>\n",
       "    </tr>\n",
       "    <tr>\n",
       "      <th>score</th>\n",
       "      <th></th>\n",
       "      <th></th>\n",
       "      <th></th>\n",
       "    </tr>\n",
       "  </thead>\n",
       "  <tbody>\n",
       "    <tr>\n",
       "      <th>1.5-2.5</th>\n",
       "      <td>15</td>\n",
       "      <td>25</td>\n",
       "      <td>10</td>\n",
       "    </tr>\n",
       "    <tr>\n",
       "      <th>2.5-3.5</th>\n",
       "      <td>60</td>\n",
       "      <td>69</td>\n",
       "      <td>77</td>\n",
       "    </tr>\n",
       "    <tr>\n",
       "      <th>3.5-4.5</th>\n",
       "      <td>24</td>\n",
       "      <td>5</td>\n",
       "      <td>13</td>\n",
       "    </tr>\n",
       "  </tbody>\n",
       "</table>\n",
       "</div>"
      ],
      "text/plain": [
       "         사회과학  자연과학  공학\n",
       "score                  \n",
       "1.5-2.5    15    25  10\n",
       "2.5-3.5    60    69  77\n",
       "3.5-4.5    24     5  13"
      ]
     },
     "execution_count": 132,
     "metadata": {},
     "output_type": "execute_result"
    }
   ],
   "source": [
    "s.set_index('score')"
   ]
  },
  {
   "cell_type": "code",
   "execution_count": null,
   "id": "13bd3ba0",
   "metadata": {},
   "outputs": [],
   "source": [
    "3개의 학과(사회과학 자연과학 공학), \n",
    "3개의 점수구간 (3.5-4.5, 2.5-3.5, 1.5-2.5)\n",
    "그에 따른 도수표 문제지에 제시(데이터를 시험지에 표로주어서 스스로 import 해야 했음, matrix 함수로 구성), \n",
    "학과와 성적이 관계있는지를 검정하여라"
   ]
  },
  {
   "cell_type": "code",
   "execution_count": 134,
   "id": "210b3ea1",
   "metadata": {
    "ExecuteTime": {
     "end_time": "2022-01-01T09:07:33.495520Z",
     "start_time": "2022-01-01T09:07:32.919996Z"
    }
   },
   "outputs": [],
   "source": [
    "df = pd.read_csv('https://raw.githubusercontent.com/Datamanim/pandas/main/mergeTEst.csv',index_col= 0)\n"
   ]
  },
  {
   "cell_type": "code",
   "execution_count": 135,
   "id": "ffe5e26b",
   "metadata": {
    "ExecuteTime": {
     "end_time": "2022-01-01T09:07:43.642106Z",
     "start_time": "2022-01-01T09:07:43.626427Z"
    }
   },
   "outputs": [
    {
     "data": {
      "text/html": [
       "<div>\n",
       "<style scoped>\n",
       "    .dataframe tbody tr th:only-of-type {\n",
       "        vertical-align: middle;\n",
       "    }\n",
       "\n",
       "    .dataframe tbody tr th {\n",
       "        vertical-align: top;\n",
       "    }\n",
       "\n",
       "    .dataframe thead th {\n",
       "        text-align: right;\n",
       "    }\n",
       "</style>\n",
       "<table border=\"1\" class=\"dataframe\">\n",
       "  <thead>\n",
       "    <tr style=\"text-align: right;\">\n",
       "      <th>Location</th>\n",
       "      <th>Afghanistan</th>\n",
       "      <th>Albania</th>\n",
       "      <th>Algeria</th>\n",
       "    </tr>\n",
       "  </thead>\n",
       "  <tbody>\n",
       "    <tr>\n",
       "      <th>2010</th>\n",
       "      <td>64.023</td>\n",
       "      <td>11.803</td>\n",
       "      <td>23.540</td>\n",
       "    </tr>\n",
       "    <tr>\n",
       "      <th>2011</th>\n",
       "      <td>61.640</td>\n",
       "      <td>10.807</td>\n",
       "      <td>22.907</td>\n",
       "    </tr>\n",
       "    <tr>\n",
       "      <th>2012</th>\n",
       "      <td>59.367</td>\n",
       "      <td>9.943</td>\n",
       "      <td>22.450</td>\n",
       "    </tr>\n",
       "    <tr>\n",
       "      <th>2013</th>\n",
       "      <td>57.170</td>\n",
       "      <td>9.267</td>\n",
       "      <td>22.117</td>\n",
       "    </tr>\n",
       "    <tr>\n",
       "      <th>2014</th>\n",
       "      <td>55.080</td>\n",
       "      <td>8.790</td>\n",
       "      <td>21.850</td>\n",
       "    </tr>\n",
       "    <tr>\n",
       "      <th>2015</th>\n",
       "      <td>53.107</td>\n",
       "      <td>8.493</td>\n",
       "      <td>21.587</td>\n",
       "    </tr>\n",
       "    <tr>\n",
       "      <th>2016</th>\n",
       "      <td>51.267</td>\n",
       "      <td>8.363</td>\n",
       "      <td>21.257</td>\n",
       "    </tr>\n",
       "  </tbody>\n",
       "</table>\n",
       "</div>"
      ],
      "text/plain": [
       "Location  Afghanistan  Albania  Algeria\n",
       "2010           64.023   11.803   23.540\n",
       "2011           61.640   10.807   22.907\n",
       "2012           59.367    9.943   22.450\n",
       "2013           57.170    9.267   22.117\n",
       "2014           55.080    8.790   21.850\n",
       "2015           53.107    8.493   21.587\n",
       "2016           51.267    8.363   21.257"
      ]
     },
     "metadata": {},
     "output_type": "display_data"
    },
    {
     "data": {
      "text/html": [
       "<div>\n",
       "<style scoped>\n",
       "    .dataframe tbody tr th:only-of-type {\n",
       "        vertical-align: middle;\n",
       "    }\n",
       "\n",
       "    .dataframe tbody tr th {\n",
       "        vertical-align: top;\n",
       "    }\n",
       "\n",
       "    .dataframe thead th {\n",
       "        text-align: right;\n",
       "    }\n",
       "</style>\n",
       "<table border=\"1\" class=\"dataframe\">\n",
       "  <thead>\n",
       "    <tr style=\"text-align: right;\">\n",
       "      <th>Location</th>\n",
       "      <th>Algeria</th>\n",
       "      <th>Andorra</th>\n",
       "      <th>Angola</th>\n",
       "    </tr>\n",
       "  </thead>\n",
       "  <tbody>\n",
       "    <tr>\n",
       "      <th>2016</th>\n",
       "      <td>21.257</td>\n",
       "      <td>3.187</td>\n",
       "      <td>55.510</td>\n",
       "    </tr>\n",
       "    <tr>\n",
       "      <th>2017</th>\n",
       "      <td>20.850</td>\n",
       "      <td>3.060</td>\n",
       "      <td>53.460</td>\n",
       "    </tr>\n",
       "    <tr>\n",
       "      <th>2018</th>\n",
       "      <td>20.407</td>\n",
       "      <td>2.933</td>\n",
       "      <td>51.757</td>\n",
       "    </tr>\n",
       "    <tr>\n",
       "      <th>2019</th>\n",
       "      <td>19.930</td>\n",
       "      <td>2.827</td>\n",
       "      <td>50.093</td>\n",
       "    </tr>\n",
       "  </tbody>\n",
       "</table>\n",
       "</div>"
      ],
      "text/plain": [
       "Location  Algeria  Andorra  Angola\n",
       "2016       21.257    3.187  55.510\n",
       "2017       20.850    3.060  53.460\n",
       "2018       20.407    2.933  51.757\n",
       "2019       19.930    2.827  50.093"
      ]
     },
     "metadata": {},
     "output_type": "display_data"
    }
   ],
   "source": [
    "df5 = df.T.iloc[:7,:3]\n",
    "df6 = df.T.iloc[6:,2:5]\n",
    "\n",
    "display(df5)\n",
    "display(df6)"
   ]
  },
  {
   "cell_type": "code",
   "execution_count": 181,
   "id": "73481748",
   "metadata": {
    "ExecuteTime": {
     "end_time": "2022-01-01T09:14:15.301154Z",
     "start_time": "2022-01-01T09:14:15.290484Z"
    },
    "scrolled": true
   },
   "outputs": [
    {
     "ename": "MergeError",
     "evalue": "Can only pass argument \"on\" OR \"left_index\" and \"right_index\", not a combination of both.",
     "output_type": "error",
     "traceback": [
      "\u001b[0;31m---------------------------------------------------------------------------\u001b[0m",
      "\u001b[0;31mMergeError\u001b[0m                                Traceback (most recent call last)",
      "\u001b[0;32m/var/folders/0n/sq2gtx6s5qldt4nt05wqc3380000gn/T/ipykernel_49578/3385588328.py\u001b[0m in \u001b[0;36m<module>\u001b[0;34m\u001b[0m\n\u001b[0;32m----> 1\u001b[0;31m \u001b[0mAns\u001b[0m \u001b[0;34m=\u001b[0m \u001b[0mpd\u001b[0m\u001b[0;34m.\u001b[0m\u001b[0mmerge\u001b[0m\u001b[0;34m(\u001b[0m\u001b[0mdf5\u001b[0m\u001b[0;34m,\u001b[0m\u001b[0mdf6\u001b[0m\u001b[0;34m,\u001b[0m\u001b[0mon\u001b[0m\u001b[0;34m=\u001b[0m\u001b[0;34m'Algeria'\u001b[0m\u001b[0;34m,\u001b[0m\u001b[0mleft_index\u001b[0m\u001b[0;34m=\u001b[0m\u001b[0;32mTrue\u001b[0m\u001b[0;34m)\u001b[0m\u001b[0;34m\u001b[0m\u001b[0;34m\u001b[0m\u001b[0m\n\u001b[0m\u001b[1;32m      2\u001b[0m \u001b[0mAns\u001b[0m\u001b[0;34m\u001b[0m\u001b[0;34m\u001b[0m\u001b[0m\n",
      "\u001b[0;32m~/opt/anaconda3/lib/python3.8/site-packages/pandas/core/reshape/merge.py\u001b[0m in \u001b[0;36mmerge\u001b[0;34m(left, right, how, on, left_on, right_on, left_index, right_index, sort, suffixes, copy, indicator, validate)\u001b[0m\n\u001b[1;32m    105\u001b[0m     \u001b[0mvalidate\u001b[0m\u001b[0;34m:\u001b[0m \u001b[0mstr\u001b[0m \u001b[0;34m|\u001b[0m \u001b[0;32mNone\u001b[0m \u001b[0;34m=\u001b[0m \u001b[0;32mNone\u001b[0m\u001b[0;34m,\u001b[0m\u001b[0;34m\u001b[0m\u001b[0;34m\u001b[0m\u001b[0m\n\u001b[1;32m    106\u001b[0m ) -> DataFrame:\n\u001b[0;32m--> 107\u001b[0;31m     op = _MergeOperation(\n\u001b[0m\u001b[1;32m    108\u001b[0m         \u001b[0mleft\u001b[0m\u001b[0;34m,\u001b[0m\u001b[0;34m\u001b[0m\u001b[0;34m\u001b[0m\u001b[0m\n\u001b[1;32m    109\u001b[0m         \u001b[0mright\u001b[0m\u001b[0;34m,\u001b[0m\u001b[0;34m\u001b[0m\u001b[0;34m\u001b[0m\u001b[0m\n",
      "\u001b[0;32m~/opt/anaconda3/lib/python3.8/site-packages/pandas/core/reshape/merge.py\u001b[0m in \u001b[0;36m__init__\u001b[0;34m(self, left, right, how, on, left_on, right_on, axis, left_index, right_index, sort, suffixes, copy, indicator, validate)\u001b[0m\n\u001b[1;32m    680\u001b[0m             \u001b[0mwarnings\u001b[0m\u001b[0;34m.\u001b[0m\u001b[0mwarn\u001b[0m\u001b[0;34m(\u001b[0m\u001b[0mmsg\u001b[0m\u001b[0;34m,\u001b[0m \u001b[0mFutureWarning\u001b[0m\u001b[0;34m,\u001b[0m \u001b[0mstacklevel\u001b[0m\u001b[0;34m=\u001b[0m\u001b[0;36m3\u001b[0m\u001b[0;34m)\u001b[0m\u001b[0;34m\u001b[0m\u001b[0;34m\u001b[0m\u001b[0m\n\u001b[1;32m    681\u001b[0m \u001b[0;34m\u001b[0m\u001b[0m\n\u001b[0;32m--> 682\u001b[0;31m         \u001b[0mself\u001b[0m\u001b[0;34m.\u001b[0m\u001b[0m_validate_specification\u001b[0m\u001b[0;34m(\u001b[0m\u001b[0;34m)\u001b[0m\u001b[0;34m\u001b[0m\u001b[0;34m\u001b[0m\u001b[0m\n\u001b[0m\u001b[1;32m    683\u001b[0m \u001b[0;34m\u001b[0m\u001b[0m\n\u001b[1;32m    684\u001b[0m         \u001b[0mcross_col\u001b[0m \u001b[0;34m=\u001b[0m \u001b[0;32mNone\u001b[0m\u001b[0;34m\u001b[0m\u001b[0;34m\u001b[0m\u001b[0m\n",
      "\u001b[0;32m~/opt/anaconda3/lib/python3.8/site-packages/pandas/core/reshape/merge.py\u001b[0m in \u001b[0;36m_validate_specification\u001b[0;34m(self)\u001b[0m\n\u001b[1;32m   1360\u001b[0m                 )\n\u001b[1;32m   1361\u001b[0m             \u001b[0;32mif\u001b[0m \u001b[0mself\u001b[0m\u001b[0;34m.\u001b[0m\u001b[0mleft_index\u001b[0m \u001b[0;32mor\u001b[0m \u001b[0mself\u001b[0m\u001b[0;34m.\u001b[0m\u001b[0mright_index\u001b[0m\u001b[0;34m:\u001b[0m\u001b[0;34m\u001b[0m\u001b[0;34m\u001b[0m\u001b[0m\n\u001b[0;32m-> 1362\u001b[0;31m                 raise MergeError(\n\u001b[0m\u001b[1;32m   1363\u001b[0m                     \u001b[0;34m'Can only pass argument \"on\" OR \"left_index\" '\u001b[0m\u001b[0;34m\u001b[0m\u001b[0;34m\u001b[0m\u001b[0m\n\u001b[1;32m   1364\u001b[0m                     \u001b[0;34m'and \"right_index\", not a combination of both.'\u001b[0m\u001b[0;34m\u001b[0m\u001b[0;34m\u001b[0m\u001b[0m\n",
      "\u001b[0;31mMergeError\u001b[0m: Can only pass argument \"on\" OR \"left_index\" and \"right_index\", not a combination of both."
     ]
    }
   ],
   "source": [
    "Ans = pd.merge(df5,df6,on='Algeria',left_index=True)\n",
    "Ans"
   ]
  },
  {
   "cell_type": "code",
   "execution_count": null,
   "id": "fc4c5dad",
   "metadata": {},
   "outputs": [],
   "source": []
  },
  {
   "cell_type": "code",
   "execution_count": null,
   "id": "8325e33e",
   "metadata": {},
   "outputs": [],
   "source": []
  }
 ],
 "metadata": {
  "kernelspec": {
   "display_name": "Python 3 (ipykernel)",
   "language": "python",
   "name": "python3"
  },
  "language_info": {
   "codemirror_mode": {
    "name": "ipython",
    "version": 3
   },
   "file_extension": ".py",
   "mimetype": "text/x-python",
   "name": "python",
   "nbconvert_exporter": "python",
   "pygments_lexer": "ipython3",
   "version": "3.8.2"
  }
 },
 "nbformat": 4,
 "nbformat_minor": 5
}
