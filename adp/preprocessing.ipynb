{
 "cells": [
  {
   "cell_type": "code",
   "execution_count": 1,
   "id": "589e01bd",
   "metadata": {
    "ExecuteTime": {
     "end_time": "2022-01-07T14:34:25.665834Z",
     "start_time": "2022-01-07T14:34:25.228545Z"
    }
   },
   "outputs": [],
   "source": [
    "import pandas as pd\n",
    "import os"
   ]
  },
  {
   "cell_type": "code",
   "execution_count": 2,
   "id": "26726b91",
   "metadata": {
    "ExecuteTime": {
     "end_time": "2022-01-07T14:34:31.460741Z",
     "start_time": "2022-01-07T14:34:31.458156Z"
    }
   },
   "outputs": [],
   "source": [
    "os.chdir('./p2')"
   ]
  },
  {
   "cell_type": "code",
   "execution_count": 3,
   "id": "e8982e8f",
   "metadata": {
    "ExecuteTime": {
     "end_time": "2022-01-07T14:34:34.111601Z",
     "start_time": "2022-01-07T14:34:34.102317Z"
    }
   },
   "outputs": [
    {
     "data": {
      "text/plain": [
       "['temps.csv']"
      ]
     },
     "execution_count": 3,
     "metadata": {},
     "output_type": "execute_result"
    }
   ],
   "source": [
    "os.listdir()"
   ]
  },
  {
   "cell_type": "code",
   "execution_count": 4,
   "id": "1fa9f03e",
   "metadata": {
    "ExecuteTime": {
     "end_time": "2022-01-07T14:34:39.021347Z",
     "start_time": "2022-01-07T14:34:39.011425Z"
    }
   },
   "outputs": [],
   "source": [
    "df =pd.read_csv('temps.csv')"
   ]
  },
  {
   "cell_type": "code",
   "execution_count": 7,
   "id": "b4e21a98",
   "metadata": {
    "ExecuteTime": {
     "end_time": "2022-01-07T14:43:30.877022Z",
     "start_time": "2022-01-07T14:43:30.868262Z"
    }
   },
   "outputs": [],
   "source": [
    "df.to_csv('problem1.csv',index=False)"
   ]
  },
  {
   "cell_type": "markdown",
   "id": "2235d730",
   "metadata": {},
   "source": [
    "# p2"
   ]
  },
  {
   "cell_type": "code",
   "execution_count": 173,
   "id": "6aeb72a8",
   "metadata": {
    "ExecuteTime": {
     "end_time": "2022-01-07T15:35:35.027377Z",
     "start_time": "2022-01-07T15:35:35.024131Z"
    }
   },
   "outputs": [],
   "source": [
    "from pandas.tseries.offsets import Day, Hour, Minute, Second\n",
    "myfreq =  Minute(5)\n",
    "df = pd.date_range('2050-01-01', periods = 2976*3, freq = myfreq)\n",
    "\n"
   ]
  },
  {
   "cell_type": "code",
   "execution_count": 174,
   "id": "7bf58909",
   "metadata": {
    "ExecuteTime": {
     "end_time": "2022-01-07T15:35:35.417744Z",
     "start_time": "2022-01-07T15:35:35.358598Z"
    }
   },
   "outputs": [],
   "source": [
    "tg = df.strftime('%Y-%m-%d %H:%M:%S')"
   ]
  },
  {
   "cell_type": "code",
   "execution_count": 175,
   "id": "ab6cbc2c",
   "metadata": {
    "ExecuteTime": {
     "end_time": "2022-01-07T15:35:35.702846Z",
     "start_time": "2022-01-07T15:35:35.567542Z"
    }
   },
   "outputs": [],
   "source": [
    "z = []\n",
    "\n",
    "for v in range(45):\n",
    "    t = pd.DataFrame(columns = ['houseCode','date','power consumption'])\n",
    "    t['date'] = tg\n",
    "    t['power consumption'] = abs(np.random.normal(0,100, size=(len(t))))\n",
    "    t['houseCode'] = 'house_'+str(v).zfill(2)\n",
    "    z.append(t)"
   ]
  },
  {
   "cell_type": "code",
   "execution_count": 176,
   "id": "8fccd1c5",
   "metadata": {
    "ExecuteTime": {
     "end_time": "2022-01-07T15:35:36.534560Z",
     "start_time": "2022-01-07T15:35:36.464454Z"
    }
   },
   "outputs": [],
   "source": [
    "total =pd.concat(z).sample(len(pd.concat(z))).reset_index(drop=True)"
   ]
  },
  {
   "cell_type": "code",
   "execution_count": 177,
   "id": "83ced82f",
   "metadata": {
    "ExecuteTime": {
     "end_time": "2022-01-07T15:35:37.718461Z",
     "start_time": "2022-01-07T15:35:36.802598Z"
    }
   },
   "outputs": [],
   "source": [
    "total.to_csv('problem2.csv',index=False)"
   ]
  },
  {
   "cell_type": "code",
   "execution_count": 178,
   "id": "cd7fdb6d",
   "metadata": {
    "ExecuteTime": {
     "end_time": "2022-01-07T15:35:37.921907Z",
     "start_time": "2022-01-07T15:35:37.720785Z"
    }
   },
   "outputs": [],
   "source": [
    "ttt =pd.read_csv('problem2.csv')"
   ]
  },
  {
   "cell_type": "code",
   "execution_count": 179,
   "id": "47a5d0a9",
   "metadata": {
    "ExecuteTime": {
     "end_time": "2022-01-07T15:35:38.076354Z",
     "start_time": "2022-01-07T15:35:37.923664Z"
    }
   },
   "outputs": [],
   "source": [
    "tt = ttt.sort_values(['houseCode','date']).reset_index(drop=True)"
   ]
  },
  {
   "cell_type": "code",
   "execution_count": 180,
   "id": "a1234cbe",
   "metadata": {
    "ExecuteTime": {
     "end_time": "2022-01-07T15:35:41.640750Z",
     "start_time": "2022-01-07T15:35:41.578606Z"
    }
   },
   "outputs": [],
   "source": [
    "tt['date'] = pd.to_datetime(tt['date'])"
   ]
  },
  {
   "cell_type": "code",
   "execution_count": 181,
   "id": "b3b1f474",
   "metadata": {
    "ExecuteTime": {
     "end_time": "2022-01-07T15:35:43.431967Z",
     "start_time": "2022-01-07T15:35:42.000291Z"
    }
   },
   "outputs": [],
   "source": [
    "tg = tt.groupby(['houseCode']).resample('15min', on='date')['power consumption'].sum().reset_index()"
   ]
  },
  {
   "cell_type": "code",
   "execution_count": 187,
   "id": "353b50ea",
   "metadata": {
    "ExecuteTime": {
     "end_time": "2022-01-07T15:41:12.075669Z",
     "start_time": "2022-01-07T15:41:12.071638Z"
    }
   },
   "outputs": [],
   "source": [
    "tg = tg.rename(columns= {'power consumption':'power consumption sum'})"
   ]
  },
  {
   "cell_type": "code",
   "execution_count": 190,
   "id": "6929b498",
   "metadata": {
    "ExecuteTime": {
     "end_time": "2022-01-07T15:42:34.311891Z",
     "start_time": "2022-01-07T15:42:34.307583Z"
    },
    "scrolled": true
   },
   "outputs": [],
   "source": [
    "tgg = tg.copy()"
   ]
  },
  {
   "cell_type": "code",
   "execution_count": 195,
   "id": "ba00577f",
   "metadata": {
    "ExecuteTime": {
     "end_time": "2022-01-07T15:43:25.327593Z",
     "start_time": "2022-01-07T15:43:25.269126Z"
    }
   },
   "outputs": [],
   "source": [
    "tgg['c'] =tgg['houseCode'].str[-2:].astype('int')\n",
    "tgg['d'] =tgg['date'].dt.hour\n",
    "tgg['e'] =tgg['date'].dt.day"
   ]
  },
  {
   "cell_type": "code",
   "execution_count": 214,
   "id": "7b95e0b2",
   "metadata": {
    "ExecuteTime": {
     "end_time": "2022-01-07T15:45:01.943196Z",
     "start_time": "2022-01-07T15:45:01.257461Z"
    }
   },
   "outputs": [
    {
     "data": {
      "text/plain": [
       "KMeans(n_clusters=5)"
      ]
     },
     "execution_count": 214,
     "metadata": {},
     "output_type": "execute_result"
    }
   ],
   "source": [
    "from sklearn.cluster import KMeans \n",
    "\n",
    "# k-means clustering 실행\n",
    "kmeans = KMeans(n_clusters=5)\n",
    "kmeans.fit(tgg.iloc[:,2:].values)"
   ]
  },
  {
   "cell_type": "code",
   "execution_count": 215,
   "id": "435117e4",
   "metadata": {
    "ExecuteTime": {
     "end_time": "2022-01-07T15:45:01.948486Z",
     "start_time": "2022-01-07T15:45:01.945684Z"
    }
   },
   "outputs": [],
   "source": [
    "tg['Cluster'] =kmeans.labels_"
   ]
  },
  {
   "cell_type": "code",
   "execution_count": 216,
   "id": "15d8074e",
   "metadata": {
    "ExecuteTime": {
     "end_time": "2022-01-07T15:45:01.962385Z",
     "start_time": "2022-01-07T15:45:01.950304Z"
    }
   },
   "outputs": [
    {
     "data": {
      "text/html": [
       "<div>\n",
       "<style scoped>\n",
       "    .dataframe tbody tr th:only-of-type {\n",
       "        vertical-align: middle;\n",
       "    }\n",
       "\n",
       "    .dataframe tbody tr th {\n",
       "        vertical-align: top;\n",
       "    }\n",
       "\n",
       "    .dataframe thead th {\n",
       "        text-align: right;\n",
       "    }\n",
       "</style>\n",
       "<table border=\"1\" class=\"dataframe\">\n",
       "  <thead>\n",
       "    <tr style=\"text-align: right;\">\n",
       "      <th></th>\n",
       "      <th>houseCode</th>\n",
       "      <th>date</th>\n",
       "      <th>power consumption sum</th>\n",
       "      <th>Cluster</th>\n",
       "    </tr>\n",
       "  </thead>\n",
       "  <tbody>\n",
       "    <tr>\n",
       "      <th>0</th>\n",
       "      <td>house_00</td>\n",
       "      <td>2050-01-01 00:00:00</td>\n",
       "      <td>136.249952</td>\n",
       "      <td>1</td>\n",
       "    </tr>\n",
       "    <tr>\n",
       "      <th>1</th>\n",
       "      <td>house_00</td>\n",
       "      <td>2050-01-01 00:15:00</td>\n",
       "      <td>98.283387</td>\n",
       "      <td>1</td>\n",
       "    </tr>\n",
       "    <tr>\n",
       "      <th>2</th>\n",
       "      <td>house_00</td>\n",
       "      <td>2050-01-01 00:30:00</td>\n",
       "      <td>53.967679</td>\n",
       "      <td>1</td>\n",
       "    </tr>\n",
       "    <tr>\n",
       "      <th>3</th>\n",
       "      <td>house_00</td>\n",
       "      <td>2050-01-01 00:45:00</td>\n",
       "      <td>204.821270</td>\n",
       "      <td>3</td>\n",
       "    </tr>\n",
       "    <tr>\n",
       "      <th>4</th>\n",
       "      <td>house_00</td>\n",
       "      <td>2050-01-01 01:00:00</td>\n",
       "      <td>150.760786</td>\n",
       "      <td>3</td>\n",
       "    </tr>\n",
       "    <tr>\n",
       "      <th>...</th>\n",
       "      <td>...</td>\n",
       "      <td>...</td>\n",
       "      <td>...</td>\n",
       "      <td>...</td>\n",
       "    </tr>\n",
       "    <tr>\n",
       "      <th>133915</th>\n",
       "      <td>house_44</td>\n",
       "      <td>2050-01-31 22:45:00</td>\n",
       "      <td>334.675717</td>\n",
       "      <td>4</td>\n",
       "    </tr>\n",
       "    <tr>\n",
       "      <th>133916</th>\n",
       "      <td>house_44</td>\n",
       "      <td>2050-01-31 23:00:00</td>\n",
       "      <td>463.419892</td>\n",
       "      <td>2</td>\n",
       "    </tr>\n",
       "    <tr>\n",
       "      <th>133917</th>\n",
       "      <td>house_44</td>\n",
       "      <td>2050-01-31 23:15:00</td>\n",
       "      <td>369.930740</td>\n",
       "      <td>4</td>\n",
       "    </tr>\n",
       "    <tr>\n",
       "      <th>133918</th>\n",
       "      <td>house_44</td>\n",
       "      <td>2050-01-31 23:30:00</td>\n",
       "      <td>237.713030</td>\n",
       "      <td>0</td>\n",
       "    </tr>\n",
       "    <tr>\n",
       "      <th>133919</th>\n",
       "      <td>house_44</td>\n",
       "      <td>2050-01-31 23:45:00</td>\n",
       "      <td>184.888439</td>\n",
       "      <td>3</td>\n",
       "    </tr>\n",
       "  </tbody>\n",
       "</table>\n",
       "<p>133920 rows × 4 columns</p>\n",
       "</div>"
      ],
      "text/plain": [
       "       houseCode                date  power consumption sum  Cluster\n",
       "0       house_00 2050-01-01 00:00:00             136.249952        1\n",
       "1       house_00 2050-01-01 00:15:00              98.283387        1\n",
       "2       house_00 2050-01-01 00:30:00              53.967679        1\n",
       "3       house_00 2050-01-01 00:45:00             204.821270        3\n",
       "4       house_00 2050-01-01 01:00:00             150.760786        3\n",
       "...          ...                 ...                    ...      ...\n",
       "133915  house_44 2050-01-31 22:45:00             334.675717        4\n",
       "133916  house_44 2050-01-31 23:00:00             463.419892        2\n",
       "133917  house_44 2050-01-31 23:15:00             369.930740        4\n",
       "133918  house_44 2050-01-31 23:30:00             237.713030        0\n",
       "133919  house_44 2050-01-31 23:45:00             184.888439        3\n",
       "\n",
       "[133920 rows x 4 columns]"
      ]
     },
     "execution_count": 216,
     "metadata": {},
     "output_type": "execute_result"
    }
   ],
   "source": [
    "tg"
   ]
  },
  {
   "cell_type": "code",
   "execution_count": 218,
   "id": "0569f443",
   "metadata": {
    "ExecuteTime": {
     "end_time": "2022-01-07T15:46:49.714276Z",
     "start_time": "2022-01-07T15:46:49.711656Z"
    }
   },
   "outputs": [],
   "source": [
    "import seaborn as sns"
   ]
  },
  {
   "cell_type": "code",
   "execution_count": 224,
   "id": "2ad66a8c",
   "metadata": {
    "ExecuteTime": {
     "end_time": "2022-01-07T15:50:06.694132Z",
     "start_time": "2022-01-07T15:50:06.662399Z"
    },
    "scrolled": true
   },
   "outputs": [],
   "source": [
    "tg['day'] = tg.date.dt.day_name()"
   ]
  },
  {
   "cell_type": "code",
   "execution_count": 239,
   "id": "af1a009c",
   "metadata": {
    "ExecuteTime": {
     "end_time": "2022-01-07T15:51:29.515664Z",
     "start_time": "2022-01-07T15:51:28.893555Z"
    }
   },
   "outputs": [],
   "source": [
    "tg['min'] = tg.date.dt.strftime('%H:%M')"
   ]
  },
  {
   "cell_type": "code",
   "execution_count": 245,
   "id": "7289f444",
   "metadata": {
    "ExecuteTime": {
     "end_time": "2022-01-07T15:52:09.930367Z",
     "start_time": "2022-01-07T15:52:09.902493Z"
    }
   },
   "outputs": [],
   "source": [
    "pv = tg.groupby(['Cluster','day','min'],as_index=False).sum()"
   ]
  },
  {
   "cell_type": "code",
   "execution_count": 258,
   "id": "49451577",
   "metadata": {
    "ExecuteTime": {
     "end_time": "2022-01-07T16:00:25.354030Z",
     "start_time": "2022-01-07T16:00:25.351233Z"
    }
   },
   "outputs": [],
   "source": [
    "pvt.iloc[0,:] = 0"
   ]
  },
  {
   "cell_type": "code",
   "execution_count": null,
   "id": "516443da",
   "metadata": {},
   "outputs": [],
   "source": [
    "pvt"
   ]
  },
  {
   "cell_type": "code",
   "execution_count": 270,
   "id": "12478285",
   "metadata": {
    "ExecuteTime": {
     "end_time": "2022-01-07T16:03:21.604046Z",
     "start_time": "2022-01-07T16:03:18.608020Z"
    }
   },
   "outputs": [
    {
     "data": {
      "image/png": "[encoded data removed]",
      "text/plain": [
       "<Figure size 1440x216 with 1 Axes>"
      ]
     },
     "metadata": {
      "needs_background": "light"
     },
     "output_type": "display_data"
    },
    {
     "data": {
      "image/png": "[encoded data removed]",
      "text/plain": [
       "<Figure size 1440x216 with 1 Axes>"
      ]
     },
     "metadata": {
      "needs_background": "light"
     },
     "output_type": "display_data"
    },
    {
     "data": {
      "image/png": "[encoded data removed]",
      "text/plain": [
       "<Figure size 1440x216 with 1 Axes>"
      ]
     },
     "metadata": {
      "needs_background": "light"
     },
     "output_type": "display_data"
    },
    {
     "data": {
      "image/png": "[encoded data removed]",
      "text/plain": [
       "<Figure size 1440x216 with 1 Axes>"
      ]
     },
     "metadata": {
      "needs_background": "light"
     },
     "output_type": "display_data"
    },
    {
     "data": {
      "image/png": "[encoded data removed]",
      "text/plain": [
       "<Figure size 1440x216 with 1 Axes>"
      ]
     },
     "metadata": {
      "needs_background": "light"
     },
     "output_type": "display_data"
    }
   ],
   "source": [
    "for v in range(5):\n",
    "    plt.figure(figsize=(20,3))\n",
    "    target = pv.loc[pv.Cluster==v]\n",
    "    pvt = target.pivot(index='day',columns='min',values='power consumption sum').reindex(['Sunday','Saturday','Friday','Thursday','Wednesday','Tuesday','Monday'])\n",
    "    plt.pcolor(pvt)\n",
    "    plt.title('Cluster'+str(v))\n",
    "    plt.xticks(range(len(pvt.columns)),pvt.columns,rotation=90)\n",
    "    plt.yticks(np.arange(len(pvt.index))+0.5,pvt.index)\n"
   ]
  },
  {
   "cell_type": "markdown",
   "id": "7f0acdbc",
   "metadata": {},
   "source": [
    "# 3\n"
   ]
  },
  {
   "cell_type": "code",
   "execution_count": 271,
   "id": "262c847f",
   "metadata": {
    "ExecuteTime": {
     "end_time": "2022-01-07T16:14:48.017711Z",
     "start_time": "2022-01-07T16:14:47.938014Z"
    }
   },
   "outputs": [],
   "source": [
    "d =pd.read_csv('/Users/ds/Downloads/all_breakdown.csv/all_breakdown.csv')"
   ]
  },
  {
   "cell_type": "code",
   "execution_count": 276,
   "id": "facad899",
   "metadata": {
    "ExecuteTime": {
     "end_time": "2022-01-07T16:15:14.754318Z",
     "start_time": "2022-01-07T16:15:14.745656Z"
    }
   },
   "outputs": [
    {
     "data": {
      "text/plain": [
       "TIMESTAMP            0\n",
       "BIOGAS               0\n",
       "BIOMASS              0\n",
       "GEOTHERMAL           0\n",
       "Hour                 0\n",
       "SMALL HYDRO          0\n",
       "SOLAR            44904\n",
       "SOLAR PV         22680\n",
       "SOLAR THERMAL    22680\n",
       "WIND TOTAL           0\n",
       "dtype: int64"
      ]
     },
     "execution_count": 276,
     "metadata": {},
     "output_type": "execute_result"
    }
   ],
   "source": [
    "d.isnull().sum()"
   ]
  },
  {
   "cell_type": "code",
   "execution_count": 285,
   "id": "c99420e6",
   "metadata": {
    "ExecuteTime": {
     "end_time": "2022-01-07T16:16:23.088182Z",
     "start_time": "2022-01-07T16:16:23.069882Z"
    }
   },
   "outputs": [
    {
     "data": {
      "text/html": [
       "<div>\n",
       "<style scoped>\n",
       "    .dataframe tbody tr th:only-of-type {\n",
       "        vertical-align: middle;\n",
       "    }\n",
       "\n",
       "    .dataframe tbody tr th {\n",
       "        vertical-align: top;\n",
       "    }\n",
       "\n",
       "    .dataframe thead th {\n",
       "        text-align: right;\n",
       "    }\n",
       "</style>\n",
       "<table border=\"1\" class=\"dataframe\">\n",
       "  <thead>\n",
       "    <tr style=\"text-align: right;\">\n",
       "      <th></th>\n",
       "      <th>TIMESTAMP</th>\n",
       "      <th>BIOGAS</th>\n",
       "      <th>BIOMASS</th>\n",
       "      <th>GEOTHERMAL</th>\n",
       "      <th>Hour</th>\n",
       "      <th>SMALL HYDRO</th>\n",
       "      <th>SOLAR</th>\n",
       "      <th>SOLAR PV</th>\n",
       "      <th>SOLAR THERMAL</th>\n",
       "      <th>WIND TOTAL</th>\n",
       "    </tr>\n",
       "  </thead>\n",
       "  <tbody>\n",
       "    <tr>\n",
       "      <th>24</th>\n",
       "      <td>2013-05-29 00:00:00</td>\n",
       "      <td>210.0</td>\n",
       "      <td>326.0</td>\n",
       "      <td>895.0</td>\n",
       "      <td>1.0</td>\n",
       "      <td>343.0</td>\n",
       "      <td>NaN</td>\n",
       "      <td>0.0</td>\n",
       "      <td>0.0</td>\n",
       "      <td>3454.0</td>\n",
       "    </tr>\n",
       "    <tr>\n",
       "      <th>25</th>\n",
       "      <td>2013-05-29 01:00:00</td>\n",
       "      <td>210.0</td>\n",
       "      <td>323.0</td>\n",
       "      <td>895.0</td>\n",
       "      <td>2.0</td>\n",
       "      <td>341.0</td>\n",
       "      <td>NaN</td>\n",
       "      <td>0.0</td>\n",
       "      <td>0.0</td>\n",
       "      <td>3268.0</td>\n",
       "    </tr>\n",
       "    <tr>\n",
       "      <th>26</th>\n",
       "      <td>2013-05-29 02:00:00</td>\n",
       "      <td>210.0</td>\n",
       "      <td>326.0</td>\n",
       "      <td>896.0</td>\n",
       "      <td>3.0</td>\n",
       "      <td>342.0</td>\n",
       "      <td>NaN</td>\n",
       "      <td>0.0</td>\n",
       "      <td>0.0</td>\n",
       "      <td>3202.0</td>\n",
       "    </tr>\n",
       "    <tr>\n",
       "      <th>27</th>\n",
       "      <td>2013-05-29 03:00:00</td>\n",
       "      <td>210.0</td>\n",
       "      <td>322.0</td>\n",
       "      <td>896.0</td>\n",
       "      <td>4.0</td>\n",
       "      <td>342.0</td>\n",
       "      <td>NaN</td>\n",
       "      <td>0.0</td>\n",
       "      <td>0.0</td>\n",
       "      <td>3007.0</td>\n",
       "    </tr>\n",
       "    <tr>\n",
       "      <th>28</th>\n",
       "      <td>2013-05-29 04:00:00</td>\n",
       "      <td>209.0</td>\n",
       "      <td>313.0</td>\n",
       "      <td>891.0</td>\n",
       "      <td>5.0</td>\n",
       "      <td>345.0</td>\n",
       "      <td>NaN</td>\n",
       "      <td>2.0</td>\n",
       "      <td>0.0</td>\n",
       "      <td>2563.0</td>\n",
       "    </tr>\n",
       "    <tr>\n",
       "      <th>...</th>\n",
       "      <td>...</td>\n",
       "      <td>...</td>\n",
       "      <td>...</td>\n",
       "      <td>...</td>\n",
       "      <td>...</td>\n",
       "      <td>...</td>\n",
       "      <td>...</td>\n",
       "      <td>...</td>\n",
       "      <td>...</td>\n",
       "      <td>...</td>\n",
       "    </tr>\n",
       "    <tr>\n",
       "      <th>67579</th>\n",
       "      <td>2013-01-28 19:00:00</td>\n",
       "      <td>209.0</td>\n",
       "      <td>331.0</td>\n",
       "      <td>924.0</td>\n",
       "      <td>20.0</td>\n",
       "      <td>404.0</td>\n",
       "      <td>NaN</td>\n",
       "      <td>0.0</td>\n",
       "      <td>0.0</td>\n",
       "      <td>2633.0</td>\n",
       "    </tr>\n",
       "    <tr>\n",
       "      <th>67580</th>\n",
       "      <td>2013-01-28 20:00:00</td>\n",
       "      <td>207.0</td>\n",
       "      <td>334.0</td>\n",
       "      <td>924.0</td>\n",
       "      <td>21.0</td>\n",
       "      <td>372.0</td>\n",
       "      <td>NaN</td>\n",
       "      <td>0.0</td>\n",
       "      <td>0.0</td>\n",
       "      <td>2540.0</td>\n",
       "    </tr>\n",
       "    <tr>\n",
       "      <th>67581</th>\n",
       "      <td>2013-01-28 21:00:00</td>\n",
       "      <td>208.0</td>\n",
       "      <td>342.0</td>\n",
       "      <td>926.0</td>\n",
       "      <td>22.0</td>\n",
       "      <td>372.0</td>\n",
       "      <td>NaN</td>\n",
       "      <td>0.0</td>\n",
       "      <td>0.0</td>\n",
       "      <td>2408.0</td>\n",
       "    </tr>\n",
       "    <tr>\n",
       "      <th>67582</th>\n",
       "      <td>2013-01-28 22:00:00</td>\n",
       "      <td>208.0</td>\n",
       "      <td>334.0</td>\n",
       "      <td>928.0</td>\n",
       "      <td>23.0</td>\n",
       "      <td>358.0</td>\n",
       "      <td>NaN</td>\n",
       "      <td>0.0</td>\n",
       "      <td>0.0</td>\n",
       "      <td>2274.0</td>\n",
       "    </tr>\n",
       "    <tr>\n",
       "      <th>67583</th>\n",
       "      <td>2013-01-28 23:00:00</td>\n",
       "      <td>208.0</td>\n",
       "      <td>335.0</td>\n",
       "      <td>928.0</td>\n",
       "      <td>24.0</td>\n",
       "      <td>331.0</td>\n",
       "      <td>NaN</td>\n",
       "      <td>0.0</td>\n",
       "      <td>0.0</td>\n",
       "      <td>2230.0</td>\n",
       "    </tr>\n",
       "  </tbody>\n",
       "</table>\n",
       "<p>44904 rows × 10 columns</p>\n",
       "</div>"
      ],
      "text/plain": [
       "                 TIMESTAMP  BIOGAS  BIOMASS  GEOTHERMAL  Hour  SMALL HYDRO  \\\n",
       "24     2013-05-29 00:00:00   210.0    326.0       895.0   1.0        343.0   \n",
       "25     2013-05-29 01:00:00   210.0    323.0       895.0   2.0        341.0   \n",
       "26     2013-05-29 02:00:00   210.0    326.0       896.0   3.0        342.0   \n",
       "27     2013-05-29 03:00:00   210.0    322.0       896.0   4.0        342.0   \n",
       "28     2013-05-29 04:00:00   209.0    313.0       891.0   5.0        345.0   \n",
       "...                    ...     ...      ...         ...   ...          ...   \n",
       "67579  2013-01-28 19:00:00   209.0    331.0       924.0  20.0        404.0   \n",
       "67580  2013-01-28 20:00:00   207.0    334.0       924.0  21.0        372.0   \n",
       "67581  2013-01-28 21:00:00   208.0    342.0       926.0  22.0        372.0   \n",
       "67582  2013-01-28 22:00:00   208.0    334.0       928.0  23.0        358.0   \n",
       "67583  2013-01-28 23:00:00   208.0    335.0       928.0  24.0        331.0   \n",
       "\n",
       "       SOLAR  SOLAR PV  SOLAR THERMAL  WIND TOTAL  \n",
       "24       NaN       0.0            0.0      3454.0  \n",
       "25       NaN       0.0            0.0      3268.0  \n",
       "26       NaN       0.0            0.0      3202.0  \n",
       "27       NaN       0.0            0.0      3007.0  \n",
       "28       NaN       2.0            0.0      2563.0  \n",
       "...      ...       ...            ...         ...  \n",
       "67579    NaN       0.0            0.0      2633.0  \n",
       "67580    NaN       0.0            0.0      2540.0  \n",
       "67581    NaN       0.0            0.0      2408.0  \n",
       "67582    NaN       0.0            0.0      2274.0  \n",
       "67583    NaN       0.0            0.0      2230.0  \n",
       "\n",
       "[44904 rows x 10 columns]"
      ]
     },
     "execution_count": 285,
     "metadata": {},
     "output_type": "execute_result"
    }
   ],
   "source": [
    "d[~d['SOLAR PV'].isnull()].i"
   ]
  },
  {
   "cell_type": "code",
   "execution_count": null,
   "id": "e8fef172",
   "metadata": {},
   "outputs": [],
   "source": []
  },
  {
   "cell_type": "code",
   "execution_count": null,
   "id": "240c807a",
   "metadata": {},
   "outputs": [],
   "source": []
  },
  {
   "cell_type": "code",
   "execution_count": null,
   "id": "8ca0bdc9",
   "metadata": {},
   "outputs": [],
   "source": []
  },
  {
   "cell_type": "code",
   "execution_count": 251,
   "id": "eb7eb484",
   "metadata": {
    "ExecuteTime": {
     "end_time": "2022-01-07T15:57:52.067088Z",
     "start_time": "2022-01-07T15:57:52.061215Z"
    }
   },
   "outputs": [],
   "source": [
    "pvt = target.pivot(index='day',columns='min',values='power consumption sum').reindex(['Monday', 'Tuesday', 'Wednesday','Thursday','Friday','Saturday','Sunday'])"
   ]
  },
  {
   "cell_type": "code",
   "execution_count": null,
   "id": "79cdde5a",
   "metadata": {},
   "outputs": [],
   "source": []
  },
  {
   "cell_type": "code",
   "execution_count": 7,
   "id": "d5f2be37",
   "metadata": {
    "ExecuteTime": {
     "end_time": "2022-01-01T06:22:57.483914Z",
     "start_time": "2022-01-01T06:22:57.473992Z"
    }
   },
   "outputs": [
    {
     "data": {
      "text/plain": [
       "['preprocessing.ipynb', '.DS_Store', 'p1.csv', '.ipynb_checkpoints']"
      ]
     },
     "execution_count": 7,
     "metadata": {},
     "output_type": "execute_result"
    }
   ],
   "source": [
    "os.listdir()"
   ]
  },
  {
   "cell_type": "code",
   "execution_count": 8,
   "id": "35535d61",
   "metadata": {
    "ExecuteTime": {
     "end_time": "2022-01-01T06:23:04.959104Z",
     "start_time": "2022-01-01T06:23:04.932211Z"
    }
   },
   "outputs": [],
   "source": [
    "df = pd.read_csv('p1.csv')"
   ]
  },
  {
   "cell_type": "code",
   "execution_count": 23,
   "id": "f6aff1eb",
   "metadata": {
    "ExecuteTime": {
     "end_time": "2022-01-01T06:39:04.919301Z",
     "start_time": "2022-01-01T06:39:04.915157Z"
    }
   },
   "outputs": [],
   "source": [
    "df.loc[sorted(df.sample(50).index.to_list()),'Light'] = -99"
   ]
  },
  {
   "cell_type": "code",
   "execution_count": 24,
   "id": "a467fc52",
   "metadata": {
    "ExecuteTime": {
     "end_time": "2022-01-01T06:39:33.895663Z",
     "start_time": "2022-01-01T06:39:33.890581Z"
    }
   },
   "outputs": [],
   "source": [
    "import numpy as np\n",
    "df.loc[sorted(df.sample(21).index.to_list()),'CO2'] = np.nan"
   ]
  },
  {
   "cell_type": "code",
   "execution_count": 28,
   "id": "ab726e90",
   "metadata": {
    "ExecuteTime": {
     "end_time": "2022-01-01T06:40:42.949095Z",
     "start_time": "2022-01-01T06:40:42.854297Z"
    }
   },
   "outputs": [],
   "source": [
    "df.to_csv('problem1.csv',index=False)"
   ]
  },
  {
   "cell_type": "code",
   "execution_count": 29,
   "id": "3a2fd29d",
   "metadata": {
    "ExecuteTime": {
     "end_time": "2022-01-01T06:50:45.036512Z",
     "start_time": "2022-01-01T06:50:45.033593Z"
    }
   },
   "outputs": [],
   "source": [
    "sp = pd.DataFrame()"
   ]
  },
  {
   "cell_type": "code",
   "execution_count": 30,
   "id": "c16ae4d8",
   "metadata": {
    "ExecuteTime": {
     "end_time": "2022-01-01T06:52:22.623026Z",
     "start_time": "2022-01-01T06:52:22.618027Z"
    }
   },
   "outputs": [],
   "source": [
    "sp['name'] = ['sample'+str(x) for x in range(1,13)]\n",
    "sp['life span'] = [10000,9000,9500,10000,10000,8900,9900,10100,10300,10020,10000,9800]"
   ]
  },
  {
   "cell_type": "code",
   "execution_count": 32,
   "id": "0cce7151",
   "metadata": {
    "ExecuteTime": {
     "end_time": "2022-01-01T06:52:35.527982Z",
     "start_time": "2022-01-01T06:52:35.524405Z"
    }
   },
   "outputs": [],
   "source": [
    "sp.to_csv('problem2.csv',index=False)"
   ]
  },
  {
   "cell_type": "markdown",
   "id": "1806c804",
   "metadata": {},
   "source": [
    "# 3"
   ]
  },
  {
   "cell_type": "code",
   "execution_count": 33,
   "id": "b505532b",
   "metadata": {
    "ExecuteTime": {
     "end_time": "2022-01-01T07:33:12.561212Z",
     "start_time": "2022-01-01T07:33:11.700293Z"
    }
   },
   "outputs": [],
   "source": [
    "covid = pd.read_csv('country_panel.csv/country_panel.csv')"
   ]
  },
  {
   "cell_type": "code",
   "execution_count": 34,
   "id": "c6d0cdf1",
   "metadata": {
    "ExecuteTime": {
     "end_time": "2022-01-01T07:33:21.691862Z",
     "start_time": "2022-01-01T07:33:21.607686Z"
    }
   },
   "outputs": [],
   "source": [
    "c= covid.copy()"
   ]
  },
  {
   "cell_type": "code",
   "execution_count": 36,
   "id": "5f1daf79",
   "metadata": {
    "ExecuteTime": {
     "end_time": "2022-01-01T07:33:36.378831Z",
     "start_time": "2022-01-01T07:33:36.347401Z"
    }
   },
   "outputs": [],
   "source": [
    "c['date'] = pd.to_datetime(c['date'])"
   ]
  },
  {
   "cell_type": "code",
   "execution_count": 48,
   "id": "c687c506",
   "metadata": {
    "ExecuteTime": {
     "end_time": "2022-01-01T07:36:26.912074Z",
     "start_time": "2022-01-01T07:36:26.823142Z"
    }
   },
   "outputs": [],
   "source": [
    "d= c[(c['date']>=pd.to_datetime('2021-01-01')) & (c['date']<=pd.to_datetime('2021-11-01'))].reset_index(drop=True)"
   ]
  },
  {
   "cell_type": "code",
   "execution_count": 128,
   "id": "35117376",
   "metadata": {
    "ExecuteTime": {
     "end_time": "2022-01-01T07:42:47.112911Z",
     "start_time": "2022-01-01T07:42:44.863527Z"
    },
    "scrolled": true
   },
   "outputs": [
    {
     "name": "stdout",
     "output_type": "stream",
     "text": [
      "122\n"
     ]
    },
    {
     "data": {
      "image/png": "[encoded data removed]",
      "text/plain": [
       "<Figure size 432x288 with 1 Axes>"
      ]
     },
     "metadata": {
      "needs_background": "light"
     },
     "output_type": "display_data"
    }
   ],
   "source": [
    "n=0\n",
    "while True:\n",
    "    e = d[d.location.isin(pd.Series(d.location.unique()).sample(40).values)].reset_index(drop=True)\n",
    "    re  = e[['location','date','new_cases']].reset_index(drop=True)\n",
    "    if len(re[re.new_cases<0]) ==0:\n",
    "        sns.lineplot(data=re,x='date',y='new_cases',hue='location')\n",
    "        break\n",
    "    else:\n",
    "        n+=1\n",
    "print(n)"
   ]
  },
  {
   "cell_type": "code",
   "execution_count": 129,
   "id": "6c89e12b",
   "metadata": {
    "ExecuteTime": {
     "end_time": "2022-01-01T07:42:53.565206Z",
     "start_time": "2022-01-01T07:42:53.472718Z"
    }
   },
   "outputs": [],
   "source": [
    "re.to_csv('problem3_covid.csv',index=False)"
   ]
  },
  {
   "cell_type": "markdown",
   "id": "21aa7dcb",
   "metadata": {},
   "source": [
    "# 4"
   ]
  },
  {
   "cell_type": "markdown",
   "id": "33bc58b7",
   "metadata": {},
   "source": [
    "!bash ~/datagit.sh"
   ]
  },
  {
   "cell_type": "code",
   "execution_count": 133,
   "id": "1473eedc",
   "metadata": {
    "ExecuteTime": {
     "end_time": "2022-01-01T08:01:39.009136Z",
     "start_time": "2022-01-01T08:01:36.966335Z"
    }
   },
   "outputs": [
    {
     "name": "stdout",
     "output_type": "stream",
     "text": [
      "/Users/ds/Documents/project/이기적자료/datarepo/.git/ 안의 기존 깃 저장소를 다시 초기화했습니다\n",
      "[main 9780624] update\n",
      " 3 files changed, 455 insertions(+), 510 deletions(-)\n",
      " rewrite adp/p1/preprocessing.ipynb (90%)\n",
      " create mode 100644 adp/p1/problem4.png\n",
      "오브젝트 나열하는 중: 12, 완료.\n",
      "오브젝트 개수 세는 중: 100% (12/12), 완료.\n",
      "Delta compression using up to 16 threads\n",
      "오브젝트 압축하는 중: 100% (7/7), 완료.\n",
      "오브젝트 쓰는 중: 100% (7/7), 107.65 KiB | 17.94 MiB/s, 완료.\n",
      "Total 7 (delta 3), reused 0 (delta 0), pack-reused 0\n",
      "remote: Resolving deltas: 100% (3/3), completed with 3 local objects.\u001b[K\n",
      "To https://github.com/Datamanim/datarepo\n",
      "   11e8f3c..9780624  main -> main\n"
     ]
    }
   ],
   "source": [
    "!bash ~/datagit.sh"
   ]
  },
  {
   "cell_type": "code",
   "execution_count": 130,
   "id": "d2cea80e",
   "metadata": {
    "ExecuteTime": {
     "end_time": "2022-01-01T07:56:54.519380Z",
     "start_time": "2022-01-01T07:56:54.515907Z"
    }
   },
   "outputs": [],
   "source": [
    "s = pd.DataFrame()"
   ]
  },
  {
   "cell_type": "code",
   "execution_count": 131,
   "id": "60ba9835",
   "metadata": {
    "ExecuteTime": {
     "end_time": "2022-01-01T07:58:09.631282Z",
     "start_time": "2022-01-01T07:58:09.625182Z"
    }
   },
   "outputs": [],
   "source": [
    "s['score'] = ['1.5-2.5','2.5-3.5','3.5-4.5']\n",
    "s['사회과학'] = [15,60,24]\n",
    "s['자연과학'] = [25,69,5]\n",
    "s['공학'] = [10,77,13]"
   ]
  },
  {
   "cell_type": "code",
   "execution_count": 132,
   "id": "1d863c7f",
   "metadata": {
    "ExecuteTime": {
     "end_time": "2022-01-01T07:58:12.928471Z",
     "start_time": "2022-01-01T07:58:12.921245Z"
    }
   },
   "outputs": [
    {
     "data": {
      "text/html": [
       "<div>\n",
       "<style scoped>\n",
       "    .dataframe tbody tr th:only-of-type {\n",
       "        vertical-align: middle;\n",
       "    }\n",
       "\n",
       "    .dataframe tbody tr th {\n",
       "        vertical-align: top;\n",
       "    }\n",
       "\n",
       "    .dataframe thead th {\n",
       "        text-align: right;\n",
       "    }\n",
       "</style>\n",
       "<table border=\"1\" class=\"dataframe\">\n",
       "  <thead>\n",
       "    <tr style=\"text-align: right;\">\n",
       "      <th></th>\n",
       "      <th>사회과학</th>\n",
       "      <th>자연과학</th>\n",
       "      <th>공학</th>\n",
       "    </tr>\n",
       "    <tr>\n",
       "      <th>score</th>\n",
       "      <th></th>\n",
       "      <th></th>\n",
       "      <th></th>\n",
       "    </tr>\n",
       "  </thead>\n",
       "  <tbody>\n",
       "    <tr>\n",
       "      <th>1.5-2.5</th>\n",
       "      <td>15</td>\n",
       "      <td>25</td>\n",
       "      <td>10</td>\n",
       "    </tr>\n",
       "    <tr>\n",
       "      <th>2.5-3.5</th>\n",
       "      <td>60</td>\n",
       "      <td>69</td>\n",
       "      <td>77</td>\n",
       "    </tr>\n",
       "    <tr>\n",
       "      <th>3.5-4.5</th>\n",
       "      <td>24</td>\n",
       "      <td>5</td>\n",
       "      <td>13</td>\n",
       "    </tr>\n",
       "  </tbody>\n",
       "</table>\n",
       "</div>"
      ],
      "text/plain": [
       "         사회과학  자연과학  공학\n",
       "score                  \n",
       "1.5-2.5    15    25  10\n",
       "2.5-3.5    60    69  77\n",
       "3.5-4.5    24     5  13"
      ]
     },
     "execution_count": 132,
     "metadata": {},
     "output_type": "execute_result"
    }
   ],
   "source": [
    "s.set_index('score')"
   ]
  },
  {
   "cell_type": "code",
   "execution_count": null,
   "id": "13bd3ba0",
   "metadata": {},
   "outputs": [],
   "source": [
    "3개의 학과(사회과학 자연과학 공학), \n",
    "3개의 점수구간 (3.5-4.5, 2.5-3.5, 1.5-2.5)\n",
    "그에 따른 도수표 문제지에 제시(데이터를 시험지에 표로주어서 스스로 import 해야 했음, matrix 함수로 구성), \n",
    "학과와 성적이 관계있는지를 검정하여라"
   ]
  },
  {
   "cell_type": "code",
   "execution_count": 134,
   "id": "210b3ea1",
   "metadata": {
    "ExecuteTime": {
     "end_time": "2022-01-01T09:07:33.495520Z",
     "start_time": "2022-01-01T09:07:32.919996Z"
    }
   },
   "outputs": [],
   "source": [
    "df = pd.read_csv('https://raw.githubusercontent.com/Datamanim/pandas/main/mergeTEst.csv',index_col= 0)\n"
   ]
  },
  {
   "cell_type": "code",
   "execution_count": 135,
   "id": "ffe5e26b",
   "metadata": {
    "ExecuteTime": {
     "end_time": "2022-01-01T09:07:43.642106Z",
     "start_time": "2022-01-01T09:07:43.626427Z"
    }
   },
   "outputs": [
    {
     "data": {
      "text/html": [
       "<div>\n",
       "<style scoped>\n",
       "    .dataframe tbody tr th:only-of-type {\n",
       "        vertical-align: middle;\n",
       "    }\n",
       "\n",
       "    .dataframe tbody tr th {\n",
       "        vertical-align: top;\n",
       "    }\n",
       "\n",
       "    .dataframe thead th {\n",
       "        text-align: right;\n",
       "    }\n",
       "</style>\n",
       "<table border=\"1\" class=\"dataframe\">\n",
       "  <thead>\n",
       "    <tr style=\"text-align: right;\">\n",
       "      <th>Location</th>\n",
       "      <th>Afghanistan</th>\n",
       "      <th>Albania</th>\n",
       "      <th>Algeria</th>\n",
       "    </tr>\n",
       "  </thead>\n",
       "  <tbody>\n",
       "    <tr>\n",
       "      <th>2010</th>\n",
       "      <td>64.023</td>\n",
       "      <td>11.803</td>\n",
       "      <td>23.540</td>\n",
       "    </tr>\n",
       "    <tr>\n",
       "      <th>2011</th>\n",
       "      <td>61.640</td>\n",
       "      <td>10.807</td>\n",
       "      <td>22.907</td>\n",
       "    </tr>\n",
       "    <tr>\n",
       "      <th>2012</th>\n",
       "      <td>59.367</td>\n",
       "      <td>9.943</td>\n",
       "      <td>22.450</td>\n",
       "    </tr>\n",
       "    <tr>\n",
       "      <th>2013</th>\n",
       "      <td>57.170</td>\n",
       "      <td>9.267</td>\n",
       "      <td>22.117</td>\n",
       "    </tr>\n",
       "    <tr>\n",
       "      <th>2014</th>\n",
       "      <td>55.080</td>\n",
       "      <td>8.790</td>\n",
       "      <td>21.850</td>\n",
       "    </tr>\n",
       "    <tr>\n",
       "      <th>2015</th>\n",
       "      <td>53.107</td>\n",
       "      <td>8.493</td>\n",
       "      <td>21.587</td>\n",
       "    </tr>\n",
       "    <tr>\n",
       "      <th>2016</th>\n",
       "      <td>51.267</td>\n",
       "      <td>8.363</td>\n",
       "      <td>21.257</td>\n",
       "    </tr>\n",
       "  </tbody>\n",
       "</table>\n",
       "</div>"
      ],
      "text/plain": [
       "Location  Afghanistan  Albania  Algeria\n",
       "2010           64.023   11.803   23.540\n",
       "2011           61.640   10.807   22.907\n",
       "2012           59.367    9.943   22.450\n",
       "2013           57.170    9.267   22.117\n",
       "2014           55.080    8.790   21.850\n",
       "2015           53.107    8.493   21.587\n",
       "2016           51.267    8.363   21.257"
      ]
     },
     "metadata": {},
     "output_type": "display_data"
    },
    {
     "data": {
      "text/html": [
       "<div>\n",
       "<style scoped>\n",
       "    .dataframe tbody tr th:only-of-type {\n",
       "        vertical-align: middle;\n",
       "    }\n",
       "\n",
       "    .dataframe tbody tr th {\n",
       "        vertical-align: top;\n",
       "    }\n",
       "\n",
       "    .dataframe thead th {\n",
       "        text-align: right;\n",
       "    }\n",
       "</style>\n",
       "<table border=\"1\" class=\"dataframe\">\n",
       "  <thead>\n",
       "    <tr style=\"text-align: right;\">\n",
       "      <th>Location</th>\n",
       "      <th>Algeria</th>\n",
       "      <th>Andorra</th>\n",
       "      <th>Angola</th>\n",
       "    </tr>\n",
       "  </thead>\n",
       "  <tbody>\n",
       "    <tr>\n",
       "      <th>2016</th>\n",
       "      <td>21.257</td>\n",
       "      <td>3.187</td>\n",
       "      <td>55.510</td>\n",
       "    </tr>\n",
       "    <tr>\n",
       "      <th>2017</th>\n",
       "      <td>20.850</td>\n",
       "      <td>3.060</td>\n",
       "      <td>53.460</td>\n",
       "    </tr>\n",
       "    <tr>\n",
       "      <th>2018</th>\n",
       "      <td>20.407</td>\n",
       "      <td>2.933</td>\n",
       "      <td>51.757</td>\n",
       "    </tr>\n",
       "    <tr>\n",
       "      <th>2019</th>\n",
       "      <td>19.930</td>\n",
       "      <td>2.827</td>\n",
       "      <td>50.093</td>\n",
       "    </tr>\n",
       "  </tbody>\n",
       "</table>\n",
       "</div>"
      ],
      "text/plain": [
       "Location  Algeria  Andorra  Angola\n",
       "2016       21.257    3.187  55.510\n",
       "2017       20.850    3.060  53.460\n",
       "2018       20.407    2.933  51.757\n",
       "2019       19.930    2.827  50.093"
      ]
     },
     "metadata": {},
     "output_type": "display_data"
    }
   ],
   "source": [
    "df5 = df.T.iloc[:7,:3]\n",
    "df6 = df.T.iloc[6:,2:5]\n",
    "\n",
    "display(df5)\n",
    "display(df6)"
   ]
  },
  {
   "cell_type": "code",
   "execution_count": 181,
   "id": "73481748",
   "metadata": {
    "ExecuteTime": {
     "end_time": "2022-01-01T09:14:15.301154Z",
     "start_time": "2022-01-01T09:14:15.290484Z"
    },
    "scrolled": true
   },
   "outputs": [
    {
     "ename": "MergeError",
     "evalue": "Can only pass argument \"on\" OR \"left_index\" and \"right_index\", not a combination of both.",
     "output_type": "error",
     "traceback": [
      "\u001b[0;31m---------------------------------------------------------------------------\u001b[0m",
      "\u001b[0;31mMergeError\u001b[0m                                Traceback (most recent call last)",
      "\u001b[0;32m/var/folders/0n/sq2gtx6s5qldt4nt05wqc3380000gn/T/ipykernel_49578/3385588328.py\u001b[0m in \u001b[0;36m<module>\u001b[0;34m\u001b[0m\n\u001b[0;32m----> 1\u001b[0;31m \u001b[0mAns\u001b[0m \u001b[0;34m=\u001b[0m \u001b[0mpd\u001b[0m\u001b[0;34m.\u001b[0m\u001b[0mmerge\u001b[0m\u001b[0;34m(\u001b[0m\u001b[0mdf5\u001b[0m\u001b[0;34m,\u001b[0m\u001b[0mdf6\u001b[0m\u001b[0;34m,\u001b[0m\u001b[0mon\u001b[0m\u001b[0;34m=\u001b[0m\u001b[0;34m'Algeria'\u001b[0m\u001b[0;34m,\u001b[0m\u001b[0mleft_index\u001b[0m\u001b[0;34m=\u001b[0m\u001b[0;32mTrue\u001b[0m\u001b[0;34m)\u001b[0m\u001b[0;34m\u001b[0m\u001b[0;34m\u001b[0m\u001b[0m\n\u001b[0m\u001b[1;32m      2\u001b[0m \u001b[0mAns\u001b[0m\u001b[0;34m\u001b[0m\u001b[0;34m\u001b[0m\u001b[0m\n",
      "\u001b[0;32m~/opt/anaconda3/lib/python3.8/site-packages/pandas/core/reshape/merge.py\u001b[0m in \u001b[0;36mmerge\u001b[0;34m(left, right, how, on, left_on, right_on, left_index, right_index, sort, suffixes, copy, indicator, validate)\u001b[0m\n\u001b[1;32m    105\u001b[0m     \u001b[0mvalidate\u001b[0m\u001b[0;34m:\u001b[0m \u001b[0mstr\u001b[0m \u001b[0;34m|\u001b[0m \u001b[0;32mNone\u001b[0m \u001b[0;34m=\u001b[0m \u001b[0;32mNone\u001b[0m\u001b[0;34m,\u001b[0m\u001b[0;34m\u001b[0m\u001b[0;34m\u001b[0m\u001b[0m\n\u001b[1;32m    106\u001b[0m ) -> DataFrame:\n\u001b[0;32m--> 107\u001b[0;31m     op = _MergeOperation(\n\u001b[0m\u001b[1;32m    108\u001b[0m         \u001b[0mleft\u001b[0m\u001b[0;34m,\u001b[0m\u001b[0;34m\u001b[0m\u001b[0;34m\u001b[0m\u001b[0m\n\u001b[1;32m    109\u001b[0m         \u001b[0mright\u001b[0m\u001b[0;34m,\u001b[0m\u001b[0;34m\u001b[0m\u001b[0;34m\u001b[0m\u001b[0m\n",
      "\u001b[0;32m~/opt/anaconda3/lib/python3.8/site-packages/pandas/core/reshape/merge.py\u001b[0m in \u001b[0;36m__init__\u001b[0;34m(self, left, right, how, on, left_on, right_on, axis, left_index, right_index, sort, suffixes, copy, indicator, validate)\u001b[0m\n\u001b[1;32m    680\u001b[0m             \u001b[0mwarnings\u001b[0m\u001b[0;34m.\u001b[0m\u001b[0mwarn\u001b[0m\u001b[0;34m(\u001b[0m\u001b[0mmsg\u001b[0m\u001b[0;34m,\u001b[0m \u001b[0mFutureWarning\u001b[0m\u001b[0;34m,\u001b[0m \u001b[0mstacklevel\u001b[0m\u001b[0;34m=\u001b[0m\u001b[0;36m3\u001b[0m\u001b[0;34m)\u001b[0m\u001b[0;34m\u001b[0m\u001b[0;34m\u001b[0m\u001b[0m\n\u001b[1;32m    681\u001b[0m \u001b[0;34m\u001b[0m\u001b[0m\n\u001b[0;32m--> 682\u001b[0;31m         \u001b[0mself\u001b[0m\u001b[0;34m.\u001b[0m\u001b[0m_validate_specification\u001b[0m\u001b[0;34m(\u001b[0m\u001b[0;34m)\u001b[0m\u001b[0;34m\u001b[0m\u001b[0;34m\u001b[0m\u001b[0m\n\u001b[0m\u001b[1;32m    683\u001b[0m \u001b[0;34m\u001b[0m\u001b[0m\n\u001b[1;32m    684\u001b[0m         \u001b[0mcross_col\u001b[0m \u001b[0;34m=\u001b[0m \u001b[0;32mNone\u001b[0m\u001b[0;34m\u001b[0m\u001b[0;34m\u001b[0m\u001b[0m\n",
      "\u001b[0;32m~/opt/anaconda3/lib/python3.8/site-packages/pandas/core/reshape/merge.py\u001b[0m in \u001b[0;36m_validate_specification\u001b[0;34m(self)\u001b[0m\n\u001b[1;32m   1360\u001b[0m                 )\n\u001b[1;32m   1361\u001b[0m             \u001b[0;32mif\u001b[0m \u001b[0mself\u001b[0m\u001b[0;34m.\u001b[0m\u001b[0mleft_index\u001b[0m \u001b[0;32mor\u001b[0m \u001b[0mself\u001b[0m\u001b[0;34m.\u001b[0m\u001b[0mright_index\u001b[0m\u001b[0;34m:\u001b[0m\u001b[0;34m\u001b[0m\u001b[0;34m\u001b[0m\u001b[0m\n\u001b[0;32m-> 1362\u001b[0;31m                 raise MergeError(\n\u001b[0m\u001b[1;32m   1363\u001b[0m                     \u001b[0;34m'Can only pass argument \"on\" OR \"left_index\" '\u001b[0m\u001b[0;34m\u001b[0m\u001b[0;34m\u001b[0m\u001b[0m\n\u001b[1;32m   1364\u001b[0m                     \u001b[0;34m'and \"right_index\", not a combination of both.'\u001b[0m\u001b[0;34m\u001b[0m\u001b[0;34m\u001b[0m\u001b[0m\n",
      "\u001b[0;31mMergeError\u001b[0m: Can only pass argument \"on\" OR \"left_index\" and \"right_index\", not a combination of both."
     ]
    }
   ],
   "source": [
    "Ans = pd.merge(df5,df6,on='Algeria',left_index=True)\n",
    "Ans"
   ]
  },
  {
   "cell_type": "code",
   "execution_count": null,
   "id": "fc4c5dad",
   "metadata": {},
   "outputs": [],
   "source": []
  },
  {
   "cell_type": "code",
   "execution_count": null,
   "id": "8325e33e",
   "metadata": {},
   "outputs": [],
   "source": []
  }
 ],
 "metadata": {
  "kernelspec": {
   "display_name": "Python 3 (ipykernel)",
   "language": "python",
   "name": "python3"
  },
  "language_info": {
   "codemirror_mode": {
    "name": "ipython",
    "version": 3
   },
   "file_extension": ".py",
   "mimetype": "text/x-python",
   "name": "python",
   "nbconvert_exporter": "python",
   "pygments_lexer": "ipython3",
   "version": "3.8.2"
  }
 },
 "nbformat": 4,
 "nbformat_minor": 5
}
