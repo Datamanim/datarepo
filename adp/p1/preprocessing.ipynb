{
 "cells": [
  {
   "cell_type": "code",
   "execution_count": 6,
   "id": "1e20138e",
   "metadata": {
    "ExecuteTime": {
     "end_time": "2022-01-01T06:22:54.570243Z",
     "start_time": "2022-01-01T06:22:54.567970Z"
    }
   },
   "outputs": [],
   "source": [
    "import pandas as pd\n",
    "import os"
   ]
  },
  {
   "cell_type": "code",
   "execution_count": 7,
   "id": "199f0773",
   "metadata": {
    "ExecuteTime": {
     "end_time": "2022-01-01T06:22:57.483914Z",
     "start_time": "2022-01-01T06:22:57.473992Z"
    }
   },
   "outputs": [
    {
     "data": {
      "text/plain": [
       "['preprocessing.ipynb', '.DS_Store', 'p1.csv', '.ipynb_checkpoints']"
      ]
     },
     "execution_count": 7,
     "metadata": {},
     "output_type": "execute_result"
    }
   ],
   "source": [
    "os.listdir()"
   ]
  },
  {
   "cell_type": "code",
   "execution_count": 8,
   "id": "6e5d373a",
   "metadata": {
    "ExecuteTime": {
     "end_time": "2022-01-01T06:23:04.959104Z",
     "start_time": "2022-01-01T06:23:04.932211Z"
    }
   },
   "outputs": [],
   "source": [
    "df = pd.read_csv('p1.csv')"
   ]
  },
  {
   "cell_type": "code",
   "execution_count": 23,
   "id": "821caab7",
   "metadata": {
    "ExecuteTime": {
     "end_time": "2022-01-01T06:39:04.919301Z",
     "start_time": "2022-01-01T06:39:04.915157Z"
    }
   },
   "outputs": [],
   "source": [
    "df.loc[sorted(df.sample(50).index.to_list()),'Light'] = -99"
   ]
  },
  {
   "cell_type": "code",
   "execution_count": 24,
   "id": "0e29233e",
   "metadata": {
    "ExecuteTime": {
     "end_time": "2022-01-01T06:39:33.895663Z",
     "start_time": "2022-01-01T06:39:33.890581Z"
    }
   },
   "outputs": [],
   "source": [
    "import numpy as np\n",
    "df.loc[sorted(df.sample(21).index.to_list()),'CO2'] = np.nan"
   ]
  },
  {
   "cell_type": "code",
   "execution_count": 28,
   "id": "edb9c139",
   "metadata": {
    "ExecuteTime": {
     "end_time": "2022-01-01T06:40:42.949095Z",
     "start_time": "2022-01-01T06:40:42.854297Z"
    }
   },
   "outputs": [],
   "source": [
    "df.to_csv('problem1.csv',index=False)"
   ]
  },
  {
   "cell_type": "code",
   "execution_count": null,
   "id": "123059d8",
   "metadata": {},
   "outputs": [],
   "source": []
  }
 ],
 "metadata": {
  "kernelspec": {
   "display_name": "Python 3 (ipykernel)",
   "language": "python",
   "name": "python3"
  },
  "language_info": {
   "codemirror_mode": {
    "name": "ipython",
    "version": 3
   },
   "file_extension": ".py",
   "mimetype": "text/x-python",
   "name": "python",
   "nbconvert_exporter": "python",
   "pygments_lexer": "ipython3",
   "version": "3.8.2"
  }
 },
 "nbformat": 4,
 "nbformat_minor": 5
}
