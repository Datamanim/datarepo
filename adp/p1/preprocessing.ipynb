{
 "cells": [
  {
   "cell_type": "code",
   "execution_count": 6,
   "id": "4b74b283",
   "metadata": {
    "ExecuteTime": {
     "end_time": "2022-01-01T06:22:54.570243Z",
     "start_time": "2022-01-01T06:22:54.567970Z"
    }
   },
   "outputs": [],
   "source": [
    "import pandas as pd\n",
    "import os"
   ]
  },
  {
   "cell_type": "code",
   "execution_count": 7,
   "id": "d533bea7",
   "metadata": {
    "ExecuteTime": {
     "end_time": "2022-01-01T06:22:57.483914Z",
     "start_time": "2022-01-01T06:22:57.473992Z"
    }
   },
   "outputs": [
    {
     "data": {
      "text/plain": [
       "['preprocessing.ipynb', '.DS_Store', 'p1.csv', '.ipynb_checkpoints']"
      ]
     },
     "execution_count": 7,
     "metadata": {},
     "output_type": "execute_result"
    }
   ],
   "source": [
    "os.listdir()"
   ]
  },
  {
   "cell_type": "code",
   "execution_count": 8,
   "id": "258b764a",
   "metadata": {
    "ExecuteTime": {
     "end_time": "2022-01-01T06:23:04.959104Z",
     "start_time": "2022-01-01T06:23:04.932211Z"
    }
   },
   "outputs": [],
   "source": [
    "df = pd.read_csv('p1.csv')"
   ]
  },
  {
   "cell_type": "code",
   "execution_count": 23,
   "id": "b6f3fba6",
   "metadata": {
    "ExecuteTime": {
     "end_time": "2022-01-01T06:39:04.919301Z",
     "start_time": "2022-01-01T06:39:04.915157Z"
    }
   },
   "outputs": [],
   "source": [
    "df.loc[sorted(df.sample(50).index.to_list()),'Light'] = -99"
   ]
  },
  {
   "cell_type": "code",
   "execution_count": 24,
   "id": "88bd3819",
   "metadata": {
    "ExecuteTime": {
     "end_time": "2022-01-01T06:39:33.895663Z",
     "start_time": "2022-01-01T06:39:33.890581Z"
    }
   },
   "outputs": [],
   "source": [
    "import numpy as np\n",
    "df.loc[sorted(df.sample(21).index.to_list()),'CO2'] = np.nan"
   ]
  },
  {
   "cell_type": "code",
   "execution_count": 28,
   "id": "71e94add",
   "metadata": {
    "ExecuteTime": {
     "end_time": "2022-01-01T06:40:42.949095Z",
     "start_time": "2022-01-01T06:40:42.854297Z"
    }
   },
   "outputs": [],
   "source": [
    "df.to_csv('problem1.csv',index=False)"
   ]
  },
  {
   "cell_type": "code",
   "execution_count": 29,
   "id": "eb9f8389",
   "metadata": {
    "ExecuteTime": {
     "end_time": "2022-01-01T06:50:45.036512Z",
     "start_time": "2022-01-01T06:50:45.033593Z"
    }
   },
   "outputs": [],
   "source": [
    "sp = pd.DataFrame()"
   ]
  },
  {
   "cell_type": "code",
   "execution_count": 30,
   "id": "c4121bd1",
   "metadata": {
    "ExecuteTime": {
     "end_time": "2022-01-01T06:52:22.623026Z",
     "start_time": "2022-01-01T06:52:22.618027Z"
    }
   },
   "outputs": [],
   "source": [
    "sp['name'] = ['sample'+str(x) for x in range(1,13)]\n",
    "sp['life span'] = [10000,9000,9500,10000,10000,8900,9900,10100,10300,10020,10000,9800]"
   ]
  },
  {
   "cell_type": "code",
   "execution_count": 32,
   "id": "6f226b0b",
   "metadata": {
    "ExecuteTime": {
     "end_time": "2022-01-01T06:52:35.527982Z",
     "start_time": "2022-01-01T06:52:35.524405Z"
    }
   },
   "outputs": [],
   "source": [
    "sp.to_csv('problem2.csv',index=False)"
   ]
  },
  {
   "cell_type": "code",
   "execution_count": 33,
   "id": "14459d60",
   "metadata": {
    "ExecuteTime": {
     "end_time": "2022-01-01T07:33:12.561212Z",
     "start_time": "2022-01-01T07:33:11.700293Z"
    }
   },
   "outputs": [],
   "source": [
    "covid = pd.read_csv('country_panel.csv/country_panel.csv')"
   ]
  },
  {
   "cell_type": "code",
   "execution_count": 34,
   "id": "1ebae515",
   "metadata": {
    "ExecuteTime": {
     "end_time": "2022-01-01T07:33:21.691862Z",
     "start_time": "2022-01-01T07:33:21.607686Z"
    }
   },
   "outputs": [],
   "source": [
    "c= covid.copy()"
   ]
  },
  {
   "cell_type": "code",
   "execution_count": 36,
   "id": "e070c7fd",
   "metadata": {
    "ExecuteTime": {
     "end_time": "2022-01-01T07:33:36.378831Z",
     "start_time": "2022-01-01T07:33:36.347401Z"
    }
   },
   "outputs": [],
   "source": [
    "c['date'] = pd.to_datetime(c['date'])"
   ]
  },
  {
   "cell_type": "code",
   "execution_count": 48,
   "id": "ad7a5bc2",
   "metadata": {
    "ExecuteTime": {
     "end_time": "2022-01-01T07:36:26.912074Z",
     "start_time": "2022-01-01T07:36:26.823142Z"
    }
   },
   "outputs": [],
   "source": [
    "d= c[(c['date']>=pd.to_datetime('2021-01-01')) & (c['date']<=pd.to_datetime('2021-11-01'))].reset_index(drop=True)"
   ]
  },
  {
   "cell_type": "code",
   "execution_count": 120,
   "id": "0fc65f40",
   "metadata": {
    "ExecuteTime": {
     "end_time": "2022-01-01T07:42:01.145356Z",
     "start_time": "2022-01-01T07:42:00.712305Z"
    },
    "scrolled": true
   },
   "outputs": [
    {
     "name": "stdout",
     "output_type": "stream",
     "text": [
      "1\n",
      "2\n",
      "3\n",
      "4\n",
      "5\n",
      "6\n",
      "7\n",
      "8\n",
      "9\n",
      "10\n",
      "11\n",
      "12\n",
      "13\n",
      "14\n",
      "15\n",
      "16\n",
      "17\n",
      "18\n",
      "19\n",
      "20\n",
      "21\n",
      "22\n",
      "23\n",
      "24\n",
      "25\n",
      "26\n",
      "27\n",
      "28\n",
      "29\n",
      "30\n",
      "31\n",
      "32\n"
     ]
    }
   ],
   "source": [
    "n=0\n",
    "while True:\n",
    "    e = d[d.location.isin(pd.Series(d.location.unique()).sample(40).values)].reset_index(drop=True)\n",
    "    re  = e[['location','date','new_cases']].reset_index(drop=True)\n",
    "    if len(re[re.new_cases<0]) ==0:\n",
    "        break\n",
    "    else:\n",
    "        n+=1\n",
    "        print(n)"
   ]
  },
  {
   "cell_type": "code",
   "execution_count": 121,
   "id": "28a78a80",
   "metadata": {
    "ExecuteTime": {
     "end_time": "2022-01-01T07:42:04.434013Z",
     "start_time": "2022-01-01T07:42:04.335514Z"
    }
   },
   "outputs": [],
   "source": [
    "re.to_csv('problem3_covid.csv',index=False)"
   ]
  },
  {
   "cell_type": "code",
   "execution_count": 122,
   "id": "e65e228a",
   "metadata": {
    "ExecuteTime": {
     "end_time": "2022-01-01T07:42:04.973977Z",
     "start_time": "2022-01-01T07:42:04.971521Z"
    }
   },
   "outputs": [],
   "source": [
    "import seaborn as sns"
   ]
  },
  {
   "cell_type": "code",
   "execution_count": 125,
   "id": "3742da41",
   "metadata": {
    "ExecuteTime": {
     "end_time": "2022-01-01T07:42:27.268040Z",
     "start_time": "2022-01-01T07:42:26.340140Z"
    },
    "scrolled": true
   },
   "outputs": [
    {
     "data": {
      "text/plain": [
       "<AxesSubplot:xlabel='date', ylabel='new_cases'>"
      ]
     },
     "execution_count": 125,
     "metadata": {},
     "output_type": "execute_result"
    },
    {
     "data": {
      "image/png": "[encoded data removed]",
      "text/plain": [
       "<Figure size 432x288 with 1 Axes>"
      ]
     },
     "metadata": {
      "needs_background": "light"
     },
     "output_type": "display_data"
    }
   ],
   "source": [
    "sns.lineplot(data=re,x='date',y='new_cases',hue='location')"
   ]
  },
  {
   "cell_type": "code",
   "execution_count": 124,
   "id": "89e907de",
   "metadata": {
    "ExecuteTime": {
     "end_time": "2022-01-01T07:42:06.838189Z",
     "start_time": "2022-01-01T07:42:06.827216Z"
    },
    "scrolled": true
   },
   "outputs": [
    {
     "data": {
      "text/html": [
       "<div>\n",
       "<style scoped>\n",
       "    .dataframe tbody tr th:only-of-type {\n",
       "        vertical-align: middle;\n",
       "    }\n",
       "\n",
       "    .dataframe tbody tr th {\n",
       "        vertical-align: top;\n",
       "    }\n",
       "\n",
       "    .dataframe thead th {\n",
       "        text-align: right;\n",
       "    }\n",
       "</style>\n",
       "<table border=\"1\" class=\"dataframe\">\n",
       "  <thead>\n",
       "    <tr style=\"text-align: right;\">\n",
       "      <th></th>\n",
       "      <th>location</th>\n",
       "      <th>date</th>\n",
       "      <th>new_cases</th>\n",
       "    </tr>\n",
       "  </thead>\n",
       "  <tbody>\n",
       "    <tr>\n",
       "      <th>0</th>\n",
       "      <td>Austria</td>\n",
       "      <td>2021-01-01</td>\n",
       "      <td>2096.0</td>\n",
       "    </tr>\n",
       "    <tr>\n",
       "      <th>1</th>\n",
       "      <td>Austria</td>\n",
       "      <td>2021-01-02</td>\n",
       "      <td>1391.0</td>\n",
       "    </tr>\n",
       "    <tr>\n",
       "      <th>2</th>\n",
       "      <td>Austria</td>\n",
       "      <td>2021-01-03</td>\n",
       "      <td>1466.0</td>\n",
       "    </tr>\n",
       "    <tr>\n",
       "      <th>3</th>\n",
       "      <td>Austria</td>\n",
       "      <td>2021-01-04</td>\n",
       "      <td>1642.0</td>\n",
       "    </tr>\n",
       "    <tr>\n",
       "      <th>4</th>\n",
       "      <td>Austria</td>\n",
       "      <td>2021-01-05</td>\n",
       "      <td>2311.0</td>\n",
       "    </tr>\n",
       "    <tr>\n",
       "      <th>...</th>\n",
       "      <td>...</td>\n",
       "      <td>...</td>\n",
       "      <td>...</td>\n",
       "    </tr>\n",
       "    <tr>\n",
       "      <th>12195</th>\n",
       "      <td>Zimbabwe</td>\n",
       "      <td>2021-10-28</td>\n",
       "      <td>72.0</td>\n",
       "    </tr>\n",
       "    <tr>\n",
       "      <th>12196</th>\n",
       "      <td>Zimbabwe</td>\n",
       "      <td>2021-10-29</td>\n",
       "      <td>46.0</td>\n",
       "    </tr>\n",
       "    <tr>\n",
       "      <th>12197</th>\n",
       "      <td>Zimbabwe</td>\n",
       "      <td>2021-10-30</td>\n",
       "      <td>0.0</td>\n",
       "    </tr>\n",
       "    <tr>\n",
       "      <th>12198</th>\n",
       "      <td>Zimbabwe</td>\n",
       "      <td>2021-10-31</td>\n",
       "      <td>51.0</td>\n",
       "    </tr>\n",
       "    <tr>\n",
       "      <th>12199</th>\n",
       "      <td>Zimbabwe</td>\n",
       "      <td>2021-11-01</td>\n",
       "      <td>30.0</td>\n",
       "    </tr>\n",
       "  </tbody>\n",
       "</table>\n",
       "<p>12200 rows × 3 columns</p>\n",
       "</div>"
      ],
      "text/plain": [
       "       location       date  new_cases\n",
       "0       Austria 2021-01-01     2096.0\n",
       "1       Austria 2021-01-02     1391.0\n",
       "2       Austria 2021-01-03     1466.0\n",
       "3       Austria 2021-01-04     1642.0\n",
       "4       Austria 2021-01-05     2311.0\n",
       "...         ...        ...        ...\n",
       "12195  Zimbabwe 2021-10-28       72.0\n",
       "12196  Zimbabwe 2021-10-29       46.0\n",
       "12197  Zimbabwe 2021-10-30        0.0\n",
       "12198  Zimbabwe 2021-10-31       51.0\n",
       "12199  Zimbabwe 2021-11-01       30.0\n",
       "\n",
       "[12200 rows x 3 columns]"
      ]
     },
     "execution_count": 124,
     "metadata": {},
     "output_type": "execute_result"
    }
   ],
   "source": [
    "re"
   ]
  },
  {
   "cell_type": "code",
   "execution_count": null,
   "id": "ae6b3b1a",
   "metadata": {},
   "outputs": [],
   "source": []
  }
 ],
 "metadata": {
  "kernelspec": {
   "display_name": "Python 3 (ipykernel)",
   "language": "python",
   "name": "python3"
  },
  "language_info": {
   "codemirror_mode": {
    "name": "ipython",
    "version": 3
   },
   "file_extension": ".py",
   "mimetype": "text/x-python",
   "name": "python",
   "nbconvert_exporter": "python",
   "pygments_lexer": "ipython3",
   "version": "3.8.2"
  }
 },
 "nbformat": 4,
 "nbformat_minor": 5
}
