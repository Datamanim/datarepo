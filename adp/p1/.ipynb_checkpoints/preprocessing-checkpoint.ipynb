{
 "cells": [
  {
   "cell_type": "code",
   "execution_count": 6,
   "id": "e00461ac",
   "metadata": {
    "ExecuteTime": {
     "end_time": "2022-01-01T06:22:54.570243Z",
     "start_time": "2022-01-01T06:22:54.567970Z"
    }
   },
   "outputs": [],
   "source": [
    "import pandas as pd\n",
    "import os"
   ]
  },
  {
   "cell_type": "code",
   "execution_count": 7,
   "id": "6864baa2",
   "metadata": {
    "ExecuteTime": {
     "end_time": "2022-01-01T06:22:57.483914Z",
     "start_time": "2022-01-01T06:22:57.473992Z"
    }
   },
   "outputs": [
    {
     "data": {
      "text/plain": [
       "['preprocessing.ipynb', '.DS_Store', 'p1.csv', '.ipynb_checkpoints']"
      ]
     },
     "execution_count": 7,
     "metadata": {},
     "output_type": "execute_result"
    }
   ],
   "source": [
    "os.listdir()"
   ]
  },
  {
   "cell_type": "code",
   "execution_count": 8,
   "id": "a00b700b",
   "metadata": {
    "ExecuteTime": {
     "end_time": "2022-01-01T06:23:04.959104Z",
     "start_time": "2022-01-01T06:23:04.932211Z"
    }
   },
   "outputs": [],
   "source": [
    "df = pd.read_csv('p1.csv')"
   ]
  },
  {
   "cell_type": "code",
   "execution_count": 23,
   "id": "884df558",
   "metadata": {
    "ExecuteTime": {
     "end_time": "2022-01-01T06:39:04.919301Z",
     "start_time": "2022-01-01T06:39:04.915157Z"
    }
   },
   "outputs": [],
   "source": [
    "df.loc[sorted(df.sample(50).index.to_list()),'Light'] = -99"
   ]
  },
  {
   "cell_type": "code",
   "execution_count": 24,
   "id": "dc3a1bf6",
   "metadata": {
    "ExecuteTime": {
     "end_time": "2022-01-01T06:39:33.895663Z",
     "start_time": "2022-01-01T06:39:33.890581Z"
    }
   },
   "outputs": [],
   "source": [
    "import numpy as np\n",
    "df.loc[sorted(df.sample(21).index.to_list()),'CO2'] = np.nan"
   ]
  },
  {
   "cell_type": "code",
   "execution_count": 28,
   "id": "e59ff56f",
   "metadata": {
    "ExecuteTime": {
     "end_time": "2022-01-01T06:40:42.949095Z",
     "start_time": "2022-01-01T06:40:42.854297Z"
    }
   },
   "outputs": [],
   "source": [
    "df.to_csv('problem1.csv',index=False)"
   ]
  },
  {
   "cell_type": "code",
   "execution_count": 29,
   "id": "5f60bb80",
   "metadata": {
    "ExecuteTime": {
     "end_time": "2022-01-01T06:50:45.036512Z",
     "start_time": "2022-01-01T06:50:45.033593Z"
    }
   },
   "outputs": [],
   "source": [
    "sp = pd.DataFrame()"
   ]
  },
  {
   "cell_type": "code",
   "execution_count": 30,
   "id": "95c299b2",
   "metadata": {
    "ExecuteTime": {
     "end_time": "2022-01-01T06:52:22.623026Z",
     "start_time": "2022-01-01T06:52:22.618027Z"
    }
   },
   "outputs": [],
   "source": [
    "sp['name'] = ['sample'+str(x) for x in range(1,13)]\n",
    "sp['life span'] = [10000,9000,9500,10000,10000,8900,9900,10100,10300,10020,10000,9800]"
   ]
  },
  {
   "cell_type": "code",
   "execution_count": 32,
   "id": "a76ea2d5",
   "metadata": {
    "ExecuteTime": {
     "end_time": "2022-01-01T06:52:35.527982Z",
     "start_time": "2022-01-01T06:52:35.524405Z"
    }
   },
   "outputs": [],
   "source": [
    "sp.to_csv('problem2.csv',index=False)"
   ]
  },
  {
   "cell_type": "code",
   "execution_count": 33,
   "id": "4b2d1a40",
   "metadata": {
    "ExecuteTime": {
     "end_time": "2022-01-01T07:33:12.561212Z",
     "start_time": "2022-01-01T07:33:11.700293Z"
    }
   },
   "outputs": [],
   "source": [
    "covid = pd.read_csv('country_panel.csv/country_panel.csv')"
   ]
  },
  {
   "cell_type": "code",
   "execution_count": 34,
   "id": "0b2a1ba5",
   "metadata": {
    "ExecuteTime": {
     "end_time": "2022-01-01T07:33:21.691862Z",
     "start_time": "2022-01-01T07:33:21.607686Z"
    }
   },
   "outputs": [],
   "source": [
    "c= covid.copy()"
   ]
  },
  {
   "cell_type": "code",
   "execution_count": 36,
   "id": "e07333f4",
   "metadata": {
    "ExecuteTime": {
     "end_time": "2022-01-01T07:33:36.378831Z",
     "start_time": "2022-01-01T07:33:36.347401Z"
    }
   },
   "outputs": [],
   "source": [
    "c['date'] = pd.to_datetime(c['date'])"
   ]
  },
  {
   "cell_type": "code",
   "execution_count": 48,
   "id": "6d7bec82",
   "metadata": {
    "ExecuteTime": {
     "end_time": "2022-01-01T07:36:26.912074Z",
     "start_time": "2022-01-01T07:36:26.823142Z"
    }
   },
   "outputs": [],
   "source": [
    "d= c[(c['date']>=pd.to_datetime('2021-01-01')) & (c['date']<=pd.to_datetime('2021-11-01'))].reset_index(drop=True)"
   ]
  },
  {
   "cell_type": "code",
   "execution_count": 55,
   "id": "631c9c52",
   "metadata": {
    "ExecuteTime": {
     "end_time": "2022-01-01T07:37:05.122616Z",
     "start_time": "2022-01-01T07:37:05.094982Z"
    }
   },
   "outputs": [],
   "source": [
    "e = d[d.location.isin(pd.Series(d.location.unique()).sample(50).values)].reset_index(drop=True)"
   ]
  },
  {
   "cell_type": "code",
   "execution_count": 57,
   "id": "8bf0d937",
   "metadata": {
    "ExecuteTime": {
     "end_time": "2022-01-01T07:37:23.473605Z",
     "start_time": "2022-01-01T07:37:23.468305Z"
    }
   },
   "outputs": [
    {
     "data": {
      "text/plain": [
       "['location',\n",
       " 'date',\n",
       " 'Alpha_num_sequences',\n",
       " 'Alpha_perc_sequences',\n",
       " 'Beta_num_sequences',\n",
       " 'Beta_perc_sequences',\n",
       " 'CanSino_new_vaccinations',\n",
       " 'CanSino_perc_of_new_vaccinations',\n",
       " 'CanSino_perc_of_total_vaccinations',\n",
       " 'CanSino_total_vaccinations',\n",
       " 'Delta_num_sequences',\n",
       " 'Delta_perc_sequences',\n",
       " 'Gamma_num_sequences',\n",
       " 'Gamma_perc_sequences',\n",
       " 'Johnson&Johnson_new_vaccinations',\n",
       " 'Johnson&Johnson_perc_of_new_vaccinations',\n",
       " 'Johnson&Johnson_perc_of_total_vaccinations',\n",
       " 'Johnson&Johnson_total_vaccinations',\n",
       " 'Moderna_new_vaccinations',\n",
       " 'Moderna_perc_of_new_vaccinations',\n",
       " 'Moderna_perc_of_total_vaccinations',\n",
       " 'Moderna_total_vaccinations',\n",
       " 'Omicron_num_sequences',\n",
       " 'Omicron_perc_sequences',\n",
       " 'Oxford/AstraZeneca_new_vaccinations',\n",
       " 'Oxford/AstraZeneca_perc_of_new_vaccinations',\n",
       " 'Oxford/AstraZeneca_perc_of_total_vaccinations',\n",
       " 'Oxford/AstraZeneca_total_vaccinations',\n",
       " 'Pfizer/BioNTech_new_vaccinations',\n",
       " 'Pfizer/BioNTech_perc_of_new_vaccinations',\n",
       " 'Pfizer/BioNTech_perc_of_total_vaccinations',\n",
       " 'Pfizer/BioNTech_total_vaccinations',\n",
       " 'Sinopharm/Beijing_new_vaccinations',\n",
       " 'Sinopharm/Beijing_perc_of_new_vaccinations',\n",
       " 'Sinopharm/Beijing_perc_of_total_vaccinations',\n",
       " 'Sinopharm/Beijing_total_vaccinations',\n",
       " 'Sinovac_new_vaccinations',\n",
       " 'Sinovac_perc_of_new_vaccinations',\n",
       " 'Sinovac_perc_of_total_vaccinations',\n",
       " 'Sinovac_total_vaccinations',\n",
       " 'Sputnik V_new_vaccinations',\n",
       " 'Sputnik V_perc_of_new_vaccinations',\n",
       " 'Sputnik V_perc_of_total_vaccinations',\n",
       " 'Sputnik V_total_vaccinations',\n",
       " 'aged_65_older',\n",
       " 'aged_70_older',\n",
       " 'cardiovasc_death_rate',\n",
       " 'diabetes_prevalence',\n",
       " 'excess_mortality',\n",
       " 'excess_mortality_cumulative',\n",
       " 'excess_mortality_cumulative_absolute',\n",
       " 'excess_mortality_cumulative_per_million',\n",
       " 'extreme_poverty',\n",
       " 'female_smokers',\n",
       " 'gdp_per_capita',\n",
       " 'grocery_and_pharmacy_percent_change_from_baseline',\n",
       " 'handwashing_facilities',\n",
       " 'hosp_patients',\n",
       " 'hosp_patients_per_million',\n",
       " 'hospital_beds_per_thousand',\n",
       " 'human_development_index',\n",
       " 'icu_patients',\n",
       " 'icu_patients_per_million',\n",
       " 'life_expectancy',\n",
       " 'male_smokers',\n",
       " 'median_age',\n",
       " 'new_cases',\n",
       " 'new_cases_per_million',\n",
       " 'new_cases_smoothed',\n",
       " 'new_cases_smoothed_per_million',\n",
       " 'new_deaths',\n",
       " 'new_deaths_per_million',\n",
       " 'new_deaths_smoothed',\n",
       " 'new_deaths_smoothed_per_million',\n",
       " 'new_people_vaccinated_smoothed',\n",
       " 'new_people_vaccinated_smoothed_per_hundred',\n",
       " 'new_tests',\n",
       " 'new_tests_per_thousand',\n",
       " 'new_tests_smoothed',\n",
       " 'new_tests_smoothed_per_thousand',\n",
       " 'new_vaccinations',\n",
       " 'new_vaccinations_smoothed',\n",
       " 'new_vaccinations_smoothed_per_million',\n",
       " 'num_sequences_total',\n",
       " 'parks_percent_change_from_baseline',\n",
       " 'people_fully_vaccinated',\n",
       " 'people_fully_vaccinated_per_hundred',\n",
       " 'people_vaccinated',\n",
       " 'people_vaccinated_per_hundred',\n",
       " 'population',\n",
       " 'population_density',\n",
       " 'positive_rate',\n",
       " 'reproduction_rate',\n",
       " 'residential_percent_change_from_baseline',\n",
       " 'retail_and_recreation_percent_change_from_baseline',\n",
       " 'stringency_index',\n",
       " 'tests_per_case',\n",
       " 'tests_units',\n",
       " 'total_boosters',\n",
       " 'total_boosters_per_hundred',\n",
       " 'total_cases',\n",
       " 'total_cases_per_million',\n",
       " 'total_deaths',\n",
       " 'total_deaths_per_million',\n",
       " 'total_tests',\n",
       " 'total_tests_per_thousand',\n",
       " 'total_vaccinations',\n",
       " 'total_vaccinations_per_hundred',\n",
       " 'transit_stations_percent_change_from_baseline',\n",
       " 'weekly_hosp_admissions',\n",
       " 'weekly_hosp_admissions_per_million',\n",
       " 'weekly_icu_admissions',\n",
       " 'weekly_icu_admissions_per_million',\n",
       " 'workplaces_percent_change_from_baseline']"
      ]
     },
     "execution_count": 57,
     "metadata": {},
     "output_type": "execute_result"
    }
   ],
   "source": [
    "e.columns.to_list()"
   ]
  },
  {
   "cell_type": "code",
   "execution_count": 58,
   "id": "2792e7d3",
   "metadata": {
    "ExecuteTime": {
     "end_time": "2022-01-01T07:37:45.923683Z",
     "start_time": "2022-01-01T07:37:45.911257Z"
    },
    "scrolled": true
   },
   "outputs": [
    {
     "data": {
      "text/html": [
       "<div>\n",
       "<style scoped>\n",
       "    .dataframe tbody tr th:only-of-type {\n",
       "        vertical-align: middle;\n",
       "    }\n",
       "\n",
       "    .dataframe tbody tr th {\n",
       "        vertical-align: top;\n",
       "    }\n",
       "\n",
       "    .dataframe thead th {\n",
       "        text-align: right;\n",
       "    }\n",
       "</style>\n",
       "<table border=\"1\" class=\"dataframe\">\n",
       "  <thead>\n",
       "    <tr style=\"text-align: right;\">\n",
       "      <th></th>\n",
       "      <th>location</th>\n",
       "      <th>date</th>\n",
       "      <th>new_cases</th>\n",
       "    </tr>\n",
       "  </thead>\n",
       "  <tbody>\n",
       "    <tr>\n",
       "      <th>0</th>\n",
       "      <td>Afghanistan</td>\n",
       "      <td>2021-01-01</td>\n",
       "      <td>183.0</td>\n",
       "    </tr>\n",
       "    <tr>\n",
       "      <th>1</th>\n",
       "      <td>Afghanistan</td>\n",
       "      <td>2021-01-02</td>\n",
       "      <td>73.0</td>\n",
       "    </tr>\n",
       "    <tr>\n",
       "      <th>2</th>\n",
       "      <td>Afghanistan</td>\n",
       "      <td>2021-01-03</td>\n",
       "      <td>123.0</td>\n",
       "    </tr>\n",
       "    <tr>\n",
       "      <th>3</th>\n",
       "      <td>Afghanistan</td>\n",
       "      <td>2021-01-04</td>\n",
       "      <td>200.0</td>\n",
       "    </tr>\n",
       "    <tr>\n",
       "      <th>4</th>\n",
       "      <td>Afghanistan</td>\n",
       "      <td>2021-01-05</td>\n",
       "      <td>102.0</td>\n",
       "    </tr>\n",
       "    <tr>\n",
       "      <th>...</th>\n",
       "      <td>...</td>\n",
       "      <td>...</td>\n",
       "      <td>...</td>\n",
       "    </tr>\n",
       "    <tr>\n",
       "      <th>15245</th>\n",
       "      <td>Turkey</td>\n",
       "      <td>2021-10-28</td>\n",
       "      <td>25528.0</td>\n",
       "    </tr>\n",
       "    <tr>\n",
       "      <th>15246</th>\n",
       "      <td>Turkey</td>\n",
       "      <td>2021-10-29</td>\n",
       "      <td>24409.0</td>\n",
       "    </tr>\n",
       "    <tr>\n",
       "      <th>15247</th>\n",
       "      <td>Turkey</td>\n",
       "      <td>2021-10-30</td>\n",
       "      <td>23096.0</td>\n",
       "    </tr>\n",
       "    <tr>\n",
       "      <th>15248</th>\n",
       "      <td>Turkey</td>\n",
       "      <td>2021-10-31</td>\n",
       "      <td>23948.0</td>\n",
       "    </tr>\n",
       "    <tr>\n",
       "      <th>15249</th>\n",
       "      <td>Turkey</td>\n",
       "      <td>2021-11-01</td>\n",
       "      <td>28678.0</td>\n",
       "    </tr>\n",
       "  </tbody>\n",
       "</table>\n",
       "<p>15250 rows × 3 columns</p>\n",
       "</div>"
      ],
      "text/plain": [
       "          location       date  new_cases\n",
       "0      Afghanistan 2021-01-01      183.0\n",
       "1      Afghanistan 2021-01-02       73.0\n",
       "2      Afghanistan 2021-01-03      123.0\n",
       "3      Afghanistan 2021-01-04      200.0\n",
       "4      Afghanistan 2021-01-05      102.0\n",
       "...            ...        ...        ...\n",
       "15245       Turkey 2021-10-28    25528.0\n",
       "15246       Turkey 2021-10-29    24409.0\n",
       "15247       Turkey 2021-10-30    23096.0\n",
       "15248       Turkey 2021-10-31    23948.0\n",
       "15249       Turkey 2021-11-01    28678.0\n",
       "\n",
       "[15250 rows x 3 columns]"
      ]
     },
     "execution_count": 58,
     "metadata": {},
     "output_type": "execute_result"
    }
   ],
   "source": [
    "e[['location','date','new_cases']]"
   ]
  },
  {
   "cell_type": "code",
   "execution_count": null,
   "id": "b9f3921f",
   "metadata": {},
   "outputs": [],
   "source": []
  }
 ],
 "metadata": {
  "kernelspec": {
   "display_name": "Python 3 (ipykernel)",
   "language": "python",
   "name": "python3"
  },
  "language_info": {
   "codemirror_mode": {
    "name": "ipython",
    "version": 3
   },
   "file_extension": ".py",
   "mimetype": "text/x-python",
   "name": "python",
   "nbconvert_exporter": "python",
   "pygments_lexer": "ipython3",
   "version": "3.8.2"
  }
 },
 "nbformat": 4,
 "nbformat_minor": 5
}
